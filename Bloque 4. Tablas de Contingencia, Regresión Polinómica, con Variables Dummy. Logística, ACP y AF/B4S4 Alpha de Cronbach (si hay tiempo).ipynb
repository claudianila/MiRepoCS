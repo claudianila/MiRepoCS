{
 "cells": [
  {
   "cell_type": "code",
   "execution_count": null,
   "id": "4eda039f",
   "metadata": {},
   "outputs": [],
   "source": [
    "#Calcularemos el apha de Cronbach usando la librería penguin\n",
    "# Basado en: https://pypi.org/project/psython/"
   ]
  },
  {
   "cell_type": "code",
   "execution_count": 3,
   "id": "6985cb9e",
   "metadata": {},
   "outputs": [
    {
     "name": "stdout",
     "output_type": "stream",
     "text": [
      "Collecting psython\n",
      "  Downloading psython-0.0.16-py3-none-any.whl (4.6 kB)\n",
      "Installing collected packages: psython\n",
      "Successfully installed psython-0.0.16\n"
     ]
    }
   ],
   "source": [
    "#!pip install psython"
   ]
  },
  {
   "cell_type": "code",
   "execution_count": 6,
   "id": "544cf70b",
   "metadata": {},
   "outputs": [
    {
     "name": "stdout",
     "output_type": "stream",
     "text": [
      "Collecting prettytable\n",
      "  Downloading prettytable-2.2.0-py3-none-any.whl (23 kB)\n",
      "Requirement already satisfied: wcwidth in c:\\users\\jgeis\\anaconda3\\lib\\site-packages (from prettytable) (0.2.5)\n",
      "Installing collected packages: prettytable\n",
      "Successfully installed prettytable-2.2.0\n"
     ]
    }
   ],
   "source": [
    "#!pip install prettytable"
   ]
  },
  {
   "cell_type": "code",
   "execution_count": 1,
   "id": "7bbee086",
   "metadata": {},
   "outputs": [],
   "source": [
    "#Carga de paquetes:\n",
    "import pandas as pd\n",
    "import psython as psy"
   ]
  },
  {
   "cell_type": "code",
   "execution_count": 2,
   "id": "710d58c6",
   "metadata": {},
   "outputs": [
    {
     "name": "stdout",
     "output_type": "stream",
     "text": [
      "<class 'pandas.core.frame.DataFrame'>\n",
      "Int64Index: 1678 entries, 2 to 1\n",
      "Data columns (total 9 columns):\n",
      " #   Column    Non-Null Count  Dtype\n",
      "---  ------    --------------  -----\n",
      " 0   zygosity  1678 non-null   int64\n",
      " 1   moed      1678 non-null   int64\n",
      " 2   faed      1678 non-null   int64\n",
      " 3   faminc    1678 non-null   int64\n",
      " 4   english   1678 non-null   int64\n",
      " 5   math      1678 non-null   int64\n",
      " 6   socsci    1678 non-null   int64\n",
      " 7   natsci    1678 non-null   int64\n",
      " 8   vocab     1678 non-null   int64\n",
      "dtypes: int64(9)\n",
      "memory usage: 131.1 KB\n"
     ]
    }
   ],
   "source": [
    "#Cargamos unos datos del Evaluation Testing Service\n",
    "df_features02 = pd.read_csv('https://raw.githubusercontent.com/claudianila/MiRepoCS/main/Data/test02.csv', index_col=0)\n",
    "df_features02.info()"
   ]
  },
  {
   "cell_type": "code",
   "execution_count": 3,
   "id": "3e271332",
   "metadata": {},
   "outputs": [
    {
     "data": {
      "text/plain": [
       "(0.8217171185271617, array([0.809, 0.834]))"
      ]
     },
     "execution_count": 3,
     "metadata": {},
     "output_type": "execute_result"
    }
   ],
   "source": [
    "#Alpha de cronbach\n",
    "#Basado en: https://pingouin-stats.org/generated/pingouin.cronbach_alpha.html\n",
    "import pingouin as pg\n",
    "pg.cronbach_alpha(data=df_features02)"
   ]
  },
  {
   "cell_type": "code",
   "execution_count": 4,
   "id": "ad557883",
   "metadata": {},
   "outputs": [
    {
     "data": {
      "text/plain": [
       "(0.8217171185271617, array([0.809, 0.834]))"
      ]
     },
     "execution_count": 4,
     "metadata": {},
     "output_type": "execute_result"
    }
   ],
   "source": [
    "#Para valores perdidos\n",
    "pg.cronbach_alpha(data=df_features02, nan_policy='listwise')"
   ]
  },
  {
   "cell_type": "code",
   "execution_count": 5,
   "id": "dbab7447",
   "metadata": {},
   "outputs": [
    {
     "data": {
      "text/plain": [
       "(0.5917188485995826, array([0.195, 0.84 ]))"
      ]
     },
     "execution_count": 5,
     "metadata": {},
     "output_type": "execute_result"
    }
   ],
   "source": [
    "#Ahora, para datos con formato largo:\n",
    "data = pg.read_dataset('cronbach_alpha')\n",
    "pg.cronbach_alpha(data=data, items='Items', scores='Scores',\n",
    "                  subject='Subj')"
   ]
  },
  {
   "cell_type": "code",
   "execution_count": 6,
   "id": "3d9b65b8",
   "metadata": {},
   "outputs": [
    {
     "data": {
      "text/html": [
       "<div>\n",
       "<style scoped>\n",
       "    .dataframe tbody tr th:only-of-type {\n",
       "        vertical-align: middle;\n",
       "    }\n",
       "\n",
       "    .dataframe tbody tr th {\n",
       "        vertical-align: top;\n",
       "    }\n",
       "\n",
       "    .dataframe thead th {\n",
       "        text-align: right;\n",
       "    }\n",
       "</style>\n",
       "<table border=\"1\" class=\"dataframe\">\n",
       "  <thead>\n",
       "    <tr style=\"text-align: right;\">\n",
       "      <th></th>\n",
       "      <th>Subj</th>\n",
       "      <th>Items</th>\n",
       "      <th>Scores</th>\n",
       "    </tr>\n",
       "  </thead>\n",
       "  <tbody>\n",
       "    <tr>\n",
       "      <th>0</th>\n",
       "      <td>0</td>\n",
       "      <td>Q1</td>\n",
       "      <td>3</td>\n",
       "    </tr>\n",
       "    <tr>\n",
       "      <th>1</th>\n",
       "      <td>1</td>\n",
       "      <td>Q1</td>\n",
       "      <td>5</td>\n",
       "    </tr>\n",
       "    <tr>\n",
       "      <th>2</th>\n",
       "      <td>2</td>\n",
       "      <td>Q1</td>\n",
       "      <td>7</td>\n",
       "    </tr>\n",
       "    <tr>\n",
       "      <th>3</th>\n",
       "      <td>3</td>\n",
       "      <td>Q1</td>\n",
       "      <td>2</td>\n",
       "    </tr>\n",
       "    <tr>\n",
       "      <th>4</th>\n",
       "      <td>4</td>\n",
       "      <td>Q1</td>\n",
       "      <td>6</td>\n",
       "    </tr>\n",
       "    <tr>\n",
       "      <th>...</th>\n",
       "      <td>...</td>\n",
       "      <td>...</td>\n",
       "      <td>...</td>\n",
       "    </tr>\n",
       "    <tr>\n",
       "      <th>145</th>\n",
       "      <td>10</td>\n",
       "      <td>Q10</td>\n",
       "      <td>1</td>\n",
       "    </tr>\n",
       "    <tr>\n",
       "      <th>146</th>\n",
       "      <td>11</td>\n",
       "      <td>Q10</td>\n",
       "      <td>4</td>\n",
       "    </tr>\n",
       "    <tr>\n",
       "      <th>147</th>\n",
       "      <td>12</td>\n",
       "      <td>Q10</td>\n",
       "      <td>5</td>\n",
       "    </tr>\n",
       "    <tr>\n",
       "      <th>148</th>\n",
       "      <td>13</td>\n",
       "      <td>Q10</td>\n",
       "      <td>5</td>\n",
       "    </tr>\n",
       "    <tr>\n",
       "      <th>149</th>\n",
       "      <td>14</td>\n",
       "      <td>Q10</td>\n",
       "      <td>4</td>\n",
       "    </tr>\n",
       "  </tbody>\n",
       "</table>\n",
       "<p>150 rows × 3 columns</p>\n",
       "</div>"
      ],
      "text/plain": [
       "     Subj Items  Scores\n",
       "0       0    Q1       3\n",
       "1       1    Q1       5\n",
       "2       2    Q1       7\n",
       "3       3    Q1       2\n",
       "4       4    Q1       6\n",
       "..    ...   ...     ...\n",
       "145    10   Q10       1\n",
       "146    11   Q10       4\n",
       "147    12   Q10       5\n",
       "148    13   Q10       5\n",
       "149    14   Q10       4\n",
       "\n",
       "[150 rows x 3 columns]"
      ]
     },
     "execution_count": 6,
     "metadata": {},
     "output_type": "execute_result"
    }
   ],
   "source": [
    "data"
   ]
  },
  {
   "cell_type": "code",
   "execution_count": 7,
   "id": "9f1cedbf",
   "metadata": {},
   "outputs": [
    {
     "data": {
      "text/plain": [
       "[(0.8217171185271617, array([0.809, 0.834])),\n",
       "        Item  Scale Mean if Item Deleted  Scale Variance if Item Deleted  \\\n",
       " 0  zygosity                  112.167461                      548.758464   \n",
       " 1      moed                  110.222288                      532.790749   \n",
       " 2      faed                  110.063766                      523.152163   \n",
       " 3    faminc                  110.575089                      523.780584   \n",
       " 4   english                   93.881406                      398.725939   \n",
       " 5      math                   92.411204                      348.010894   \n",
       " 6    socsci                   92.992253                      377.804949   \n",
       " 7    natsci                   93.575089                      359.546833   \n",
       " 8     vocab                   92.597735                      384.345540   \n",
       " \n",
       "    Corrected Item-Total Correlation  Cronbach's Alpha if Item Deleted  \n",
       " 0                          0.035658                          0.834665  \n",
       " 1                          0.255180                          0.828549  \n",
       " 2                          0.327333                          0.824706  \n",
       " 3                          0.295546                          0.825817  \n",
       " 4                          0.694649                          0.780326  \n",
       " 5                          0.693022                          0.785600  \n",
       " 6                          0.781835                          0.766435  \n",
       " 7                          0.722720                          0.776445  \n",
       " 8                          0.760238                          0.770156  ]"
      ]
     },
     "execution_count": 7,
     "metadata": {},
     "output_type": "execute_result"
    }
   ],
   "source": [
    "psy.cronbach_alpha_scale_if_deleted(df_features02)"
   ]
  },
  {
   "cell_type": "code",
   "execution_count": 8,
   "id": "96e1df8a",
   "metadata": {},
   "outputs": [],
   "source": [
    "result = psy.split_half_reliability(df_features02)"
   ]
  },
  {
   "cell_type": "code",
   "execution_count": 9,
   "id": "3b05d829",
   "metadata": {},
   "outputs": [
    {
     "data": {
      "text/plain": [
       "[0.6562678072987987,\n",
       " 0.7924658130850272,\n",
       " 0.43,\n",
       " 0.871,\n",
       " <prettytable.prettytable.PrettyTable at 0x275f5dc8040>]"
      ]
     },
     "execution_count": 9,
     "metadata": {},
     "output_type": "execute_result"
    }
   ],
   "source": [
    "result"
   ]
  },
  {
   "cell_type": "code",
   "execution_count": 10,
   "id": "84141435",
   "metadata": {},
   "outputs": [
    {
     "name": "stdout",
     "output_type": "stream",
     "text": [
      "+------------------+--------+---------------------+------+\n",
      "| Cronbach's Alpha | Part 1 | Value               |  .43 |\n",
      "|                  |        | N of Items          |    5 |\n",
      "|                  | Part 2 | Value               | .871 |\n",
      "|                  |        | N of Items          |    4 |\n",
      "|                  |        | Total N of Items    |    9 |\n",
      "|                  |        | Correlation Between | .656 |\n",
      "|                  |        | Forms               |      |\n",
      "| Spearman-Brown   |        | Equal Length        | .792 |\n",
      "| Coefficient      |        |                     |      |\n",
      "+------------------+--------+---------------------+------+\n"
     ]
    }
   ],
   "source": [
    "print(result[4])"
   ]
  },
  {
   "cell_type": "code",
   "execution_count": null,
   "id": "99b53c73",
   "metadata": {},
   "outputs": [],
   "source": []
  },
  {
   "cell_type": "code",
   "execution_count": null,
   "id": "05844a04",
   "metadata": {},
   "outputs": [],
   "source": []
  }
 ],
 "metadata": {
  "kernelspec": {
   "display_name": "Python 3",
   "language": "python",
   "name": "python3"
  },
  "language_info": {
   "codemirror_mode": {
    "name": "ipython",
    "version": 3
   },
   "file_extension": ".py",
   "mimetype": "text/x-python",
   "name": "python",
   "nbconvert_exporter": "python",
   "pygments_lexer": "ipython3",
   "version": "3.8.8"
  }
 },
 "nbformat": 4,
 "nbformat_minor": 5
}
