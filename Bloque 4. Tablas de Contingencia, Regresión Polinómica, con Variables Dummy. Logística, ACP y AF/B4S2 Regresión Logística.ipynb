{
 "cells": [
  {
   "cell_type": "markdown",
   "id": "4f2c842b",
   "metadata": {},
   "source": [
    "# Regresión Logística para datos de COVID 19"
   ]
  },
  {
   "cell_type": "markdown",
   "id": "334b0878",
   "metadata": {},
   "source": [
    "Cargamos la tabla de datos de covid, que trae el indicador de si murió o no murió, las 5 comorbilidades más frecuentes, la edad\n",
    "el sexo y el número de días entre inicio de síntomas e ingreso y si fue hospitalizado o entró a la UCI."
   ]
  },
  {
   "cell_type": "code",
   "execution_count": null,
   "id": "10080ef7",
   "metadata": {},
   "outputs": [],
   "source": [
    "#La tabla de datos se llama dfCovidPositivos.csv y se generó en la práctica del Bloque 2"
   ]
  },
  {
   "cell_type": "code",
   "execution_count": 18,
   "id": "b2562f50",
   "metadata": {},
   "outputs": [],
   "source": [
    "#Importa las liberías utilizadas\n",
    "import pandas as pd\n",
    "import numpy as np"
   ]
  },
  {
   "cell_type": "code",
   "execution_count": 19,
   "id": "9f709bce",
   "metadata": {},
   "outputs": [],
   "source": [
    "#Carga de datos\n",
    "filename = 'C:/Users/jgeis/Documents/Claudia/Cursos/Impartidos/PythonParaCS/Bloque2  Limpieza de Datos y Análisis Descriptivo Univariado/dfCovidPositivos.csv'\n",
    "df = pd.read_csv(filename, header=0)"
   ]
  },
  {
   "cell_type": "code",
   "execution_count": 20,
   "id": "7605c2cb",
   "metadata": {},
   "outputs": [
    {
     "data": {
      "text/plain": [
       "Index(['Muerto', 'EDAD', 'catEdad', 'SEXO', 'COMORBILIDADES', 'numComorb',\n",
       "       'HOSPITALIZADO', 'UCI', 'INTUBADO', 'dias_sintomas_ingreso',\n",
       "       'dias_ingreso_muerte', 'FECHA_INGRESO'],\n",
       "      dtype='object')"
      ]
     },
     "execution_count": 20,
     "metadata": {},
     "output_type": "execute_result"
    }
   ],
   "source": [
    "df.columns"
   ]
  },
  {
   "cell_type": "code",
   "execution_count": 50,
   "id": "e1782e75",
   "metadata": {},
   "outputs": [],
   "source": [
    "#Basado en: https://www.datacamp.com/community/tutorials/understanding-logistic-regression-python?utm_source=adwords_ppc&utm_campaignid=1455363063&utm_adgroupid=65083631748&utm_device=c&utm_keyword=&utm_matchtype=b&utm_network=g&utm_adpostion=&utm_creative=278443377095&utm_targetid=aud-763347114660:dsa-429603003980&utm_loc_interest_ms=&utm_loc_physical_ms=9073874&gclid=CjwKCAjw1JeJBhB9EiwAV612y36I1lEXJqew9jkflvuwWXFwDGoiparHZ3Alb-JAx2Ib_L3G3aNWQBoCDA8QAvD_BwE\n",
    "#split dataset in features and target variable\n",
    "feature_cols = ['EDAD', 'SEXO','HOSPITALIZADO','UCI','dias_sintomas_ingreso']\n",
    "X = df[feature_cols].values # Features\n",
    "y = df.Muerto # Target variable"
   ]
  },
  {
   "cell_type": "code",
   "execution_count": 52,
   "id": "2546a7de",
   "metadata": {},
   "outputs": [
    {
     "data": {
      "text/plain": [
       "array([[ 41.,   1.,   0.,   0.,   0.],\n",
       "       [ 66.,   0.,   1.,   1.,   3.],\n",
       "       [ 47.,   1.,   0.,   0.,   2.],\n",
       "       ...,\n",
       "       [ 38.,   1.,   0.,   0.,   0.],\n",
       "       [ 47.,   0.,   0.,   0.,   0.],\n",
       "       [121.,   1.,   0.,   0.,   0.]])"
      ]
     },
     "execution_count": 52,
     "metadata": {},
     "output_type": "execute_result"
    }
   ],
   "source": [
    "X"
   ]
  },
  {
   "cell_type": "code",
   "execution_count": 22,
   "id": "471e013b",
   "metadata": {},
   "outputs": [],
   "source": [
    "#!pip install sklearn"
   ]
  },
  {
   "cell_type": "code",
   "execution_count": 23,
   "id": "b16b377b",
   "metadata": {},
   "outputs": [],
   "source": [
    "# split X and y into training and testing sets\n",
    "#Ojo, este lo tuve que cambiar del original, en lugar de model_selection decía \n",
    "#cross_validation\n",
    "from sklearn.model_selection import train_test_split\n",
    "X_train,X_test,y_train,y_test=train_test_split(X,y,test_size=0.25,random_state=0)"
   ]
  },
  {
   "cell_type": "code",
   "execution_count": 24,
   "id": "55bed9ac",
   "metadata": {},
   "outputs": [],
   "source": [
    "# import the class\n",
    "from sklearn.linear_model import LogisticRegression\n",
    "\n",
    "# instantiate the model (using the default parameters)\n",
    "logreg = LogisticRegression()\n",
    "\n",
    "# fit the model with data\n",
    "logreg.fit(X_train,y_train)\n",
    "\n",
    "#\n",
    "y_pred=logreg.predict(X_test)"
   ]
  },
  {
   "cell_type": "code",
   "execution_count": 25,
   "id": "ab12e8da",
   "metadata": {},
   "outputs": [
    {
     "data": {
      "text/plain": [
       "array([[802994,  22109],\n",
       "       [ 34544,  33614]], dtype=int64)"
      ]
     },
     "execution_count": 25,
     "metadata": {},
     "output_type": "execute_result"
    }
   ],
   "source": [
    "# import the metrics class\n",
    "from sklearn import metrics\n",
    "cnf_matrix = metrics.confusion_matrix(y_test, y_pred)\n",
    "cnf_matrix"
   ]
  },
  {
   "cell_type": "code",
   "execution_count": 26,
   "id": "e53f7219",
   "metadata": {},
   "outputs": [],
   "source": [
    "# import required modules\n",
    "import numpy as np\n",
    "import matplotlib.pyplot as plt\n",
    "import seaborn as sns\n",
    "%matplotlib inline"
   ]
  },
  {
   "cell_type": "code",
   "execution_count": 27,
   "id": "091b4dd1",
   "metadata": {},
   "outputs": [
    {
     "data": {
      "text/plain": [
       "Text(0.5, 257.44, 'Predicted label')"
      ]
     },
     "execution_count": 27,
     "metadata": {},
     "output_type": "execute_result"
    },
    {
     "data": {
      "image/png": "[encoded data removed]",
      "text/plain": [
       "<Figure size 432x288 with 2 Axes>"
      ]
     },
     "metadata": {
      "needs_background": "light"
     },
     "output_type": "display_data"
    }
   ],
   "source": [
    "class_names=[0,1] # name  of classes\n",
    "fig, ax = plt.subplots()\n",
    "tick_marks = np.arange(len(class_names))\n",
    "plt.xticks(tick_marks, class_names)\n",
    "plt.yticks(tick_marks, class_names)\n",
    "# create heatmap\n",
    "sns.heatmap(pd.DataFrame(cnf_matrix), annot=True, cmap=\"YlGnBu\" ,fmt='g')\n",
    "ax.xaxis.set_label_position(\"top\")\n",
    "plt.tight_layout()\n",
    "plt.title('Confusion matrix', y=1.1)\n",
    "plt.ylabel('Actual label')\n",
    "plt.xlabel('Predicted label')"
   ]
  },
  {
   "cell_type": "code",
   "execution_count": 28,
   "id": "4fd79bca",
   "metadata": {},
   "outputs": [
    {
     "name": "stdout",
     "output_type": "stream",
     "text": [
      "Accuracy: 0.9365773273432961\n",
      "Precision: 0.603233853166556\n",
      "Recall: 0.4931776167141055\n"
     ]
    }
   ],
   "source": [
    "print(\"Accuracy:\",metrics.accuracy_score(y_test, y_pred))\n",
    "print(\"Precision:\",metrics.precision_score(y_test, y_pred))\n",
    "print(\"Recall:\",metrics.recall_score(y_test, y_pred))"
   ]
  },
  {
   "cell_type": "markdown",
   "id": "fa03b9e9",
   "metadata": {},
   "source": [
    "# La curva ROC"
   ]
  },
  {
   "cell_type": "markdown",
   "id": "63f3e94f",
   "metadata": {},
   "source": []
  },
  {
   "cell_type": "code",
   "execution_count": 29,
   "id": "1f88a99e",
   "metadata": {},
   "outputs": [
    {
     "data": {
      "image/png": "[encoded data removed]",
      "text/plain": [
       "<Figure size 432x288 with 1 Axes>"
      ]
     },
     "metadata": {
      "needs_background": "light"
     },
     "output_type": "display_data"
    }
   ],
   "source": [
    "#ROC Curve\n",
    "#Receiver Operating Characteristic(ROC) curve is a plot of the true positive rate against the false positive rate. It shows the tradeoff between sensitivity and specificity.\n",
    "\n",
    "y_pred_proba = logreg.predict_proba(X_test)[::,1]\n",
    "fpr, tpr, _ = metrics.roc_curve(y_test,  y_pred_proba)\n",
    "auc = metrics.roc_auc_score(y_test, y_pred_proba)\n",
    "plt.plot(fpr,tpr,label=\"data 1, auc=\"+str(auc))\n",
    "plt.legend(loc=4)\n",
    "plt.show()"
   ]
  },
  {
   "cell_type": "markdown",
   "id": "6c8c49b9",
   "metadata": {},
   "source": [
    "La curva ROC es un gráfico muy popular para desplegar de forma simultánea los dos tipos de errores para todos los posibles umbrales. El nombre “ROC” es histórico,\n",
    "y viene de la teoría de comunicaciones. Es un acrónimo de receiver\n",
    "operating characteristics. El desempeño de un clasificador, resumido sobre todos los posibles umbrales, está dado por el area bajo la curva (ROC) dado por AUC. Una curva ROC ideal se verá hacia arriba hacia la esquina superior izquierda, demo do que a mayor area bajo la curva ROC, mejor es el clasificador. Para estos datos el AUC es 0.953, que está cerca al máximo así que se considera muy bueno. Esperamos que un clasificador que no es mejor que un volado tenga una AUC de  0.5."
   ]
  },
  {
   "cell_type": "code",
   "execution_count": 30,
   "id": "841615cf",
   "metadata": {},
   "outputs": [],
   "source": [
    "#AUC score for the case is 0.95. AUC score 1 represents perfect classifier, and 0.5 represents a worthless classifier."
   ]
  },
  {
   "cell_type": "code",
   "execution_count": 31,
   "id": "17fb2d31",
   "metadata": {},
   "outputs": [
    {
     "name": "stderr",
     "output_type": "stream",
     "text": [
      "<ipython-input-31-55a8a1ef657a>:22: FutureWarning: pandas.util.testing is deprecated. Use the functions in the public API at pandas.testing instead.\n",
      "  import pandas.util.testing as tm\n"
     ]
    }
   ],
   "source": [
    "#USANDO el laboratorio de Clasificación del libro ISLR\n",
    "# %load ../standard_import.txt\n",
    "import pandas as pd\n",
    "import numpy as np\n",
    "import matplotlib as mpl\n",
    "import matplotlib.pyplot as plt\n",
    "import seaborn as sns\n",
    "\n",
    "import sklearn.linear_model as skl_lm\n",
    "from sklearn.discriminant_analysis import LinearDiscriminantAnalysis\n",
    "from sklearn.discriminant_analysis import QuadraticDiscriminantAnalysis\n",
    "from sklearn.metrics import confusion_matrix, classification_report, precision_score\n",
    "from sklearn import preprocessing\n",
    "from sklearn import neighbors\n",
    "\n",
    "import statsmodels.api as sm\n",
    "import statsmodels.api as smf\n",
    "\n",
    "%matplotlib inline\n",
    "plt.style.use('seaborn-white')\n",
    "\n",
    "import pandas.util.testing as tm"
   ]
  },
  {
   "cell_type": "code",
   "execution_count": 32,
   "id": "cf0bd30b",
   "metadata": {},
   "outputs": [
    {
     "name": "stderr",
     "output_type": "stream",
     "text": [
      "C:\\Users\\jgeis\\anaconda3\\lib\\site-packages\\seaborn\\_decorators.py:36: FutureWarning: Pass the following variables as keyword args: x, y. From version 0.12, the only valid positional argument will be `data`, and passing other arguments without an explicit keyword will result in an error or misinterpretation.\n",
      "  warnings.warn(\n",
      "C:\\Users\\jgeis\\anaconda3\\lib\\site-packages\\seaborn\\_decorators.py:36: FutureWarning: Pass the following variables as keyword args: x, y. From version 0.12, the only valid positional argument will be `data`, and passing other arguments without an explicit keyword will result in an error or misinterpretation.\n",
      "  warnings.warn(\n"
     ]
    },
    {
     "data": {
      "text/plain": [
       "<AxesSubplot:xlabel='Muerto', ylabel='dias_sintomas_ingreso'>"
      ]
     },
     "execution_count": 32,
     "metadata": {},
     "output_type": "execute_result"
    },
    {
     "data": {
      "image/png": "[encoded data removed]",
      "text/plain": [
       "<Figure size 1080x360 with 3 Axes>"
      ]
     },
     "metadata": {},
     "output_type": "display_data"
    }
   ],
   "source": [
    "fig = plt.figure(figsize=(15,5))\n",
    "gs = mpl.gridspec.GridSpec(1, 4)\n",
    "ax1 = plt.subplot(gs[0,:-2])\n",
    "ax2 = plt.subplot(gs[0,-2])\n",
    "ax3 = plt.subplot(gs[0,-1])\n",
    "\n",
    "# Take a fraction of the samples where target value (default) is 'no'\n",
    "#En nuestro caso el valor default es equivalente a Muerto\n",
    "df_no = df[df.Muerto == 0].sample(frac=0.15)\n",
    "# Take all samples  where target value is 'yes'\n",
    "df_yes = df[df.Muerto == 1]\n",
    "df_ = df_no.append(df_yes)\n",
    "\n",
    "ax1.scatter(df_[df_.Muerto == 1].EDAD, df_[df_.Muerto == 1].dias_sintomas_ingreso, s=40, c='orange', marker='+',\n",
    "            linewidths=1)\n",
    "ax1.scatter(df_[df_.Muerto == 0].EDAD, df_[df_.Muerto == 0].dias_sintomas_ingreso, s=40, marker='o',\n",
    "            linewidths=1,edgecolors='lightblue', facecolors='white', alpha=.6)\n",
    "\n",
    "ax1.set_ylim(ymin=0)\n",
    "ax1.set_ylabel('dias_sintomas_ingreso')\n",
    "ax1.set_xlim(xmin=0)\n",
    "ax1.set_xlabel('EDAD')\n",
    "\n",
    "c_palette = {0:'lightblue', 1:'orange'}\n",
    "sns.boxplot('Muerto', 'EDAD', data=df, orient='v', ax=ax2, palette=c_palette)\n",
    "sns.boxplot('Muerto', 'dias_sintomas_ingreso', data=df, orient='v', ax=ax3, palette=c_palette)\n",
    "#gs.tight_layout(plt.gcf())\n",
    "\n"
   ]
  },
  {
   "cell_type": "code",
   "execution_count": 33,
   "id": "c8403720",
   "metadata": {},
   "outputs": [
    {
     "data": {
      "text/plain": [
       "Muerto                     int64\n",
       "EDAD                       int64\n",
       "catEdad                   object\n",
       "SEXO                       int64\n",
       "COMORBILIDADES            object\n",
       "numComorb                  int64\n",
       "HOSPITALIZADO              int64\n",
       "UCI                        int64\n",
       "INTUBADO                   int64\n",
       "dias_sintomas_ingreso    float64\n",
       "dias_ingreso_muerte      float64\n",
       "FECHA_INGRESO             object\n",
       "dtype: object"
      ]
     },
     "execution_count": 33,
     "metadata": {},
     "output_type": "execute_result"
    }
   ],
   "source": [
    "df.dtypes"
   ]
  },
  {
   "cell_type": "code",
   "execution_count": 34,
   "id": "64a759b5",
   "metadata": {},
   "outputs": [
    {
     "data": {
      "text/html": [
       "<div>\n",
       "<style scoped>\n",
       "    .dataframe tbody tr th:only-of-type {\n",
       "        vertical-align: middle;\n",
       "    }\n",
       "\n",
       "    .dataframe tbody tr th {\n",
       "        vertical-align: top;\n",
       "    }\n",
       "\n",
       "    .dataframe thead th {\n",
       "        text-align: right;\n",
       "    }\n",
       "</style>\n",
       "<table border=\"1\" class=\"dataframe\">\n",
       "  <thead>\n",
       "    <tr style=\"text-align: right;\">\n",
       "      <th></th>\n",
       "      <th>Muerto</th>\n",
       "      <th>EDAD</th>\n",
       "      <th>catEdad</th>\n",
       "      <th>SEXO</th>\n",
       "      <th>COMORBILIDADES</th>\n",
       "      <th>numComorb</th>\n",
       "      <th>HOSPITALIZADO</th>\n",
       "      <th>UCI</th>\n",
       "      <th>INTUBADO</th>\n",
       "      <th>dias_sintomas_ingreso</th>\n",
       "      <th>dias_ingreso_muerte</th>\n",
       "      <th>FECHA_INGRESO</th>\n",
       "    </tr>\n",
       "  </thead>\n",
       "  <tbody>\n",
       "    <tr>\n",
       "      <th>2801057</th>\n",
       "      <td>0</td>\n",
       "      <td>32</td>\n",
       "      <td>(30, 40]</td>\n",
       "      <td>0</td>\n",
       "      <td>NaN</td>\n",
       "      <td>0</td>\n",
       "      <td>0</td>\n",
       "      <td>0</td>\n",
       "      <td>0</td>\n",
       "      <td>0.0</td>\n",
       "      <td>NaN</td>\n",
       "      <td>2021-07-26</td>\n",
       "    </tr>\n",
       "    <tr>\n",
       "      <th>804529</th>\n",
       "      <td>0</td>\n",
       "      <td>34</td>\n",
       "      <td>(30, 40]</td>\n",
       "      <td>1</td>\n",
       "      <td>NaN</td>\n",
       "      <td>0</td>\n",
       "      <td>0</td>\n",
       "      <td>0</td>\n",
       "      <td>0</td>\n",
       "      <td>13.0</td>\n",
       "      <td>NaN</td>\n",
       "      <td>2020-10-01</td>\n",
       "    </tr>\n",
       "    <tr>\n",
       "      <th>1587235</th>\n",
       "      <td>0</td>\n",
       "      <td>55</td>\n",
       "      <td>(50, 60]</td>\n",
       "      <td>0</td>\n",
       "      <td>NaN</td>\n",
       "      <td>0</td>\n",
       "      <td>0</td>\n",
       "      <td>0</td>\n",
       "      <td>0</td>\n",
       "      <td>3.0</td>\n",
       "      <td>NaN</td>\n",
       "      <td>2021-01-11</td>\n",
       "    </tr>\n",
       "    <tr>\n",
       "      <th>836313</th>\n",
       "      <td>0</td>\n",
       "      <td>30</td>\n",
       "      <td>(18, 30]</td>\n",
       "      <td>1</td>\n",
       "      <td>NaN</td>\n",
       "      <td>0</td>\n",
       "      <td>0</td>\n",
       "      <td>0</td>\n",
       "      <td>0</td>\n",
       "      <td>3.0</td>\n",
       "      <td>NaN</td>\n",
       "      <td>2020-10-08</td>\n",
       "    </tr>\n",
       "    <tr>\n",
       "      <th>3118766</th>\n",
       "      <td>0</td>\n",
       "      <td>54</td>\n",
       "      <td>(50, 60]</td>\n",
       "      <td>1</td>\n",
       "      <td>NaN</td>\n",
       "      <td>0</td>\n",
       "      <td>0</td>\n",
       "      <td>0</td>\n",
       "      <td>0</td>\n",
       "      <td>4.0</td>\n",
       "      <td>NaN</td>\n",
       "      <td>2021-08-13</td>\n",
       "    </tr>\n",
       "    <tr>\n",
       "      <th>...</th>\n",
       "      <td>...</td>\n",
       "      <td>...</td>\n",
       "      <td>...</td>\n",
       "      <td>...</td>\n",
       "      <td>...</td>\n",
       "      <td>...</td>\n",
       "      <td>...</td>\n",
       "      <td>...</td>\n",
       "      <td>...</td>\n",
       "      <td>...</td>\n",
       "      <td>...</td>\n",
       "      <td>...</td>\n",
       "    </tr>\n",
       "    <tr>\n",
       "      <th>921619</th>\n",
       "      <td>0</td>\n",
       "      <td>48</td>\n",
       "      <td>(40, 50]</td>\n",
       "      <td>1</td>\n",
       "      <td>TAB</td>\n",
       "      <td>1</td>\n",
       "      <td>0</td>\n",
       "      <td>0</td>\n",
       "      <td>0</td>\n",
       "      <td>4.0</td>\n",
       "      <td>NaN</td>\n",
       "      <td>2020-09-21</td>\n",
       "    </tr>\n",
       "    <tr>\n",
       "      <th>1946884</th>\n",
       "      <td>0</td>\n",
       "      <td>35</td>\n",
       "      <td>(30, 40]</td>\n",
       "      <td>0</td>\n",
       "      <td>TAB</td>\n",
       "      <td>1</td>\n",
       "      <td>0</td>\n",
       "      <td>0</td>\n",
       "      <td>0</td>\n",
       "      <td>2.0</td>\n",
       "      <td>NaN</td>\n",
       "      <td>2021-02-04</td>\n",
       "    </tr>\n",
       "    <tr>\n",
       "      <th>1724335</th>\n",
       "      <td>0</td>\n",
       "      <td>58</td>\n",
       "      <td>(50, 60]</td>\n",
       "      <td>1</td>\n",
       "      <td>NaN</td>\n",
       "      <td>0</td>\n",
       "      <td>0</td>\n",
       "      <td>0</td>\n",
       "      <td>0</td>\n",
       "      <td>3.0</td>\n",
       "      <td>NaN</td>\n",
       "      <td>2021-01-16</td>\n",
       "    </tr>\n",
       "    <tr>\n",
       "      <th>481898</th>\n",
       "      <td>0</td>\n",
       "      <td>26</td>\n",
       "      <td>(18, 30]</td>\n",
       "      <td>0</td>\n",
       "      <td>NaN</td>\n",
       "      <td>0</td>\n",
       "      <td>0</td>\n",
       "      <td>0</td>\n",
       "      <td>0</td>\n",
       "      <td>2.0</td>\n",
       "      <td>NaN</td>\n",
       "      <td>2020-07-31</td>\n",
       "    </tr>\n",
       "    <tr>\n",
       "      <th>1755335</th>\n",
       "      <td>0</td>\n",
       "      <td>29</td>\n",
       "      <td>(18, 30]</td>\n",
       "      <td>0</td>\n",
       "      <td>NaN</td>\n",
       "      <td>0</td>\n",
       "      <td>0</td>\n",
       "      <td>0</td>\n",
       "      <td>0</td>\n",
       "      <td>2.0</td>\n",
       "      <td>NaN</td>\n",
       "      <td>2021-01-21</td>\n",
       "    </tr>\n",
       "  </tbody>\n",
       "</table>\n",
       "<p>495192 rows × 12 columns</p>\n",
       "</div>"
      ],
      "text/plain": [
       "         Muerto  EDAD   catEdad  SEXO COMORBILIDADES  numComorb  \\\n",
       "2801057       0    32  (30, 40]     0            NaN          0   \n",
       "804529        0    34  (30, 40]     1            NaN          0   \n",
       "1587235       0    55  (50, 60]     0            NaN          0   \n",
       "836313        0    30  (18, 30]     1            NaN          0   \n",
       "3118766       0    54  (50, 60]     1            NaN          0   \n",
       "...         ...   ...       ...   ...            ...        ...   \n",
       "921619        0    48  (40, 50]     1            TAB          1   \n",
       "1946884       0    35  (30, 40]     0            TAB          1   \n",
       "1724335       0    58  (50, 60]     1            NaN          0   \n",
       "481898        0    26  (18, 30]     0            NaN          0   \n",
       "1755335       0    29  (18, 30]     0            NaN          0   \n",
       "\n",
       "         HOSPITALIZADO  UCI  INTUBADO  dias_sintomas_ingreso  \\\n",
       "2801057              0    0         0                    0.0   \n",
       "804529               0    0         0                   13.0   \n",
       "1587235              0    0         0                    3.0   \n",
       "836313               0    0         0                    3.0   \n",
       "3118766              0    0         0                    4.0   \n",
       "...                ...  ...       ...                    ...   \n",
       "921619               0    0         0                    4.0   \n",
       "1946884              0    0         0                    2.0   \n",
       "1724335              0    0         0                    3.0   \n",
       "481898               0    0         0                    2.0   \n",
       "1755335              0    0         0                    2.0   \n",
       "\n",
       "         dias_ingreso_muerte FECHA_INGRESO  \n",
       "2801057                  NaN    2021-07-26  \n",
       "804529                   NaN    2020-10-01  \n",
       "1587235                  NaN    2021-01-11  \n",
       "836313                   NaN    2020-10-08  \n",
       "3118766                  NaN    2021-08-13  \n",
       "...                      ...           ...  \n",
       "921619                   NaN    2020-09-21  \n",
       "1946884                  NaN    2021-02-04  \n",
       "1724335                  NaN    2021-01-16  \n",
       "481898                   NaN    2020-07-31  \n",
       "1755335                  NaN    2021-01-21  \n",
       "\n",
       "[495192 rows x 12 columns]"
      ]
     },
     "execution_count": 34,
     "metadata": {},
     "output_type": "execute_result"
    }
   ],
   "source": [
    "df_[df_.Muerto == 0]"
   ]
  },
  {
   "cell_type": "markdown",
   "id": "aa9ef05a",
   "metadata": {},
   "source": [
    "# Regresión logística"
   ]
  },
  {
   "cell_type": "code",
   "execution_count": 35,
   "id": "5386d7f6",
   "metadata": {},
   "outputs": [
    {
     "name": "stderr",
     "output_type": "stream",
     "text": [
      "C:\\Users\\jgeis\\anaconda3\\lib\\site-packages\\scipy\\optimize\\linesearch.py:327: LineSearchWarning: The line search algorithm did not converge\n",
      "  warn('The line search algorithm did not converge', LineSearchWarning)\n",
      "C:\\Users\\jgeis\\anaconda3\\lib\\site-packages\\sklearn\\utils\\optimize.py:195: UserWarning: Line Search failed\n",
      "  warnings.warn('Line Search failed')\n",
      "C:\\Users\\jgeis\\anaconda3\\lib\\site-packages\\seaborn\\_decorators.py:36: FutureWarning: Pass the following variables as keyword args: x, y. From version 0.12, the only valid positional argument will be `data`, and passing other arguments without an explicit keyword will result in an error or misinterpretation.\n",
      "  warnings.warn(\n"
     ]
    },
    {
     "data": {
      "image/png": "[encoded data removed]",
      "text/plain": [
       "<Figure size 864x360 with 2 Axes>"
      ]
     },
     "metadata": {},
     "output_type": "display_data"
    }
   ],
   "source": [
    "X_train = df.EDAD.values.reshape(-1,1) \n",
    "y = df.Muerto\n",
    "\n",
    "# Create array of test data. Calculate the classification probability\n",
    "# and predicted classification.\n",
    "X_test = np.arange(df.EDAD.min(), df.EDAD.max()).reshape(-1,1)\n",
    "\n",
    "clf = skl_lm.LogisticRegression(solver='newton-cg')\n",
    "clf.fit(X_train,y)\n",
    "prob = clf.predict_proba(X_test)\n",
    "\n",
    "fig, (ax1, ax2) = plt.subplots(1,2, figsize=(12,5))\n",
    "# Left plot\n",
    "sns.regplot(df.EDAD, df.Muerto, order=1, ci=None,\n",
    "            scatter_kws={'color':'orange'},\n",
    "            line_kws={'color':'lightblue', 'lw':2}, ax=ax1)\n",
    "# Right plot\n",
    "ax2.scatter(X_train, y, color='orange')\n",
    "ax2.plot(X_test, prob[:,1], color='lightblue')\n",
    "\n",
    "for ax in fig.axes:\n",
    "    ax.hlines(1, xmin=ax.xaxis.get_data_interval()[0],\n",
    "              xmax=ax.xaxis.get_data_interval()[1], linestyles='dashed', lw=1)\n",
    "    ax.hlines(0, xmin=ax.xaxis.get_data_interval()[0],\n",
    "              xmax=ax.xaxis.get_data_interval()[1], linestyles='dashed', lw=1)\n",
    "    ax.set_ylabel('Probability of default')\n",
    "    ax.set_xlabel('Balance')\n",
    "    ax.set_yticks([0, 0.25, 0.5, 0.75, 1.])\n",
    "    ax.set_xlim(xmin=-100)"
   ]
  },
  {
   "cell_type": "markdown",
   "id": "75a2b892",
   "metadata": {},
   "source": [
    "# scikitlearn"
   ]
  },
  {
   "cell_type": "code",
   "execution_count": 36,
   "id": "e95b95a5",
   "metadata": {},
   "outputs": [
    {
     "name": "stdout",
     "output_type": "stream",
     "text": [
      "LogisticRegression(solver='newton-cg')\n",
      "classes:  [0 1]\n",
      "coefficients:  [[0.08238202]]\n",
      "intercept : [-6.71561914]\n"
     ]
    },
    {
     "name": "stderr",
     "output_type": "stream",
     "text": [
      "C:\\Users\\jgeis\\anaconda3\\lib\\site-packages\\scipy\\optimize\\linesearch.py:327: LineSearchWarning: The line search algorithm did not converge\n",
      "  warn('The line search algorithm did not converge', LineSearchWarning)\n",
      "C:\\Users\\jgeis\\anaconda3\\lib\\site-packages\\sklearn\\utils\\optimize.py:195: UserWarning: Line Search failed\n",
      "  warnings.warn('Line Search failed')\n"
     ]
    }
   ],
   "source": [
    "# Using newton-cg solver, the coefficients are equal/closest to the ones in the book. \n",
    "# I do not know the details on the differences between the solvers.\n",
    "clf = skl_lm.LogisticRegression(solver='newton-cg')\n",
    "X_train = df.EDAD.values.reshape(-1,1)\n",
    "clf.fit(X_train,y)\n",
    "print(clf)\n",
    "print('classes: ',clf.classes_)\n",
    "print('coefficients: ',clf.coef_)\n",
    "print('intercept :', clf.intercept_)"
   ]
  },
  {
   "cell_type": "markdown",
   "id": "6322aa19-1dc6-49d2-acde-ab3f94c714a6",
   "metadata": {},
   "source": [
    "### Statsmodels"
   ]
  },
  {
   "cell_type": "code",
   "execution_count": 37,
   "id": "e6ec98e8",
   "metadata": {},
   "outputs": [
    {
     "name": "stdout",
     "output_type": "stream",
     "text": [
      "Optimization terminated successfully.\n",
      "         Current function value: 0.206160\n",
      "         Iterations 8\n"
     ]
    },
    {
     "data": {
      "text/html": [
       "<div>\n",
       "<style scoped>\n",
       "    .dataframe tbody tr th:only-of-type {\n",
       "        vertical-align: middle;\n",
       "    }\n",
       "\n",
       "    .dataframe tbody tr th {\n",
       "        vertical-align: top;\n",
       "    }\n",
       "\n",
       "    .dataframe thead th {\n",
       "        text-align: right;\n",
       "    }\n",
       "</style>\n",
       "<table border=\"1\" class=\"dataframe\">\n",
       "  <thead>\n",
       "    <tr style=\"text-align: right;\">\n",
       "      <th></th>\n",
       "      <th>Coef.</th>\n",
       "      <th>Std.Err.</th>\n",
       "      <th>z</th>\n",
       "      <th>P&gt;|z|</th>\n",
       "      <th>[0.025</th>\n",
       "      <th>0.975]</th>\n",
       "    </tr>\n",
       "  </thead>\n",
       "  <tbody>\n",
       "    <tr>\n",
       "      <th>const</th>\n",
       "      <td>-6.715619</td>\n",
       "      <td>0.008684</td>\n",
       "      <td>-773.338818</td>\n",
       "      <td>0.0</td>\n",
       "      <td>-6.732639</td>\n",
       "      <td>-6.698599</td>\n",
       "    </tr>\n",
       "    <tr>\n",
       "      <th>EDAD</th>\n",
       "      <td>0.082382</td>\n",
       "      <td>0.000142</td>\n",
       "      <td>579.181688</td>\n",
       "      <td>0.0</td>\n",
       "      <td>0.082103</td>\n",
       "      <td>0.082661</td>\n",
       "    </tr>\n",
       "  </tbody>\n",
       "</table>\n",
       "</div>"
      ],
      "text/plain": [
       "          Coef.  Std.Err.           z  P>|z|    [0.025    0.975]\n",
       "const -6.715619  0.008684 -773.338818    0.0 -6.732639 -6.698599\n",
       "EDAD   0.082382  0.000142  579.181688    0.0  0.082103  0.082661"
      ]
     },
     "execution_count": 37,
     "metadata": {},
     "output_type": "execute_result"
    }
   ],
   "source": [
    "X_train = sm.add_constant(df.EDAD)\n",
    "est = smf.Logit(y.ravel(), X_train).fit()\n",
    "est.summary2().tables[1]"
   ]
  },
  {
   "cell_type": "code",
   "execution_count": 38,
   "id": "6fad06ef",
   "metadata": {},
   "outputs": [
    {
     "name": "stdout",
     "output_type": "stream",
     "text": [
      "Optimization terminated successfully.\n",
      "         Current function value: 0.260357\n",
      "         Iterations 7\n"
     ]
    },
    {
     "data": {
      "text/html": [
       "<div>\n",
       "<style scoped>\n",
       "    .dataframe tbody tr th:only-of-type {\n",
       "        vertical-align: middle;\n",
       "    }\n",
       "\n",
       "    .dataframe tbody tr th {\n",
       "        vertical-align: top;\n",
       "    }\n",
       "\n",
       "    .dataframe thead th {\n",
       "        text-align: right;\n",
       "    }\n",
       "</style>\n",
       "<table border=\"1\" class=\"dataframe\">\n",
       "  <thead>\n",
       "    <tr style=\"text-align: right;\">\n",
       "      <th></th>\n",
       "      <th>Coef.</th>\n",
       "      <th>Std.Err.</th>\n",
       "      <th>z</th>\n",
       "      <th>P&gt;|z|</th>\n",
       "      <th>[0.025</th>\n",
       "      <th>0.975]</th>\n",
       "    </tr>\n",
       "  </thead>\n",
       "  <tbody>\n",
       "    <tr>\n",
       "      <th>const</th>\n",
       "      <td>-3.084262</td>\n",
       "      <td>0.003313</td>\n",
       "      <td>-931.095826</td>\n",
       "      <td>0.0</td>\n",
       "      <td>-3.090754</td>\n",
       "      <td>-3.077769</td>\n",
       "    </tr>\n",
       "    <tr>\n",
       "      <th>dias_sintomas_ingreso</th>\n",
       "      <td>0.133521</td>\n",
       "      <td>0.000522</td>\n",
       "      <td>255.690225</td>\n",
       "      <td>0.0</td>\n",
       "      <td>0.132497</td>\n",
       "      <td>0.134544</td>\n",
       "    </tr>\n",
       "  </tbody>\n",
       "</table>\n",
       "</div>"
      ],
      "text/plain": [
       "                          Coef.  Std.Err.           z  P>|z|    [0.025  \\\n",
       "const                 -3.084262  0.003313 -931.095826    0.0 -3.090754   \n",
       "dias_sintomas_ingreso  0.133521  0.000522  255.690225    0.0  0.132497   \n",
       "\n",
       "                         0.975]  \n",
       "const                 -3.077769  \n",
       "dias_sintomas_ingreso  0.134544  "
      ]
     },
     "execution_count": 38,
     "metadata": {},
     "output_type": "execute_result"
    }
   ],
   "source": [
    "X_train = sm.add_constant(df.dias_sintomas_ingreso)\n",
    "y = df.Muerto\n",
    "\n",
    "est = smf.Logit(y, X_train).fit()\n",
    "est.summary2().tables[1]"
   ]
  },
  {
   "cell_type": "code",
   "execution_count": 39,
   "id": "72a733af",
   "metadata": {},
   "outputs": [],
   "source": [
    "###  Table 4.3 - Multiple Logistic Regression"
   ]
  },
  {
   "cell_type": "code",
   "execution_count": 40,
   "id": "ac9e3a6c",
   "metadata": {},
   "outputs": [
    {
     "name": "stdout",
     "output_type": "stream",
     "text": [
      "Optimization terminated successfully.\n",
      "         Current function value: 0.130278\n",
      "         Iterations 9\n"
     ]
    },
    {
     "data": {
      "text/html": [
       "<div>\n",
       "<style scoped>\n",
       "    .dataframe tbody tr th:only-of-type {\n",
       "        vertical-align: middle;\n",
       "    }\n",
       "\n",
       "    .dataframe tbody tr th {\n",
       "        vertical-align: top;\n",
       "    }\n",
       "\n",
       "    .dataframe thead th {\n",
       "        text-align: right;\n",
       "    }\n",
       "</style>\n",
       "<table border=\"1\" class=\"dataframe\">\n",
       "  <thead>\n",
       "    <tr style=\"text-align: right;\">\n",
       "      <th></th>\n",
       "      <th>Coef.</th>\n",
       "      <th>Std.Err.</th>\n",
       "      <th>z</th>\n",
       "      <th>P&gt;|z|</th>\n",
       "      <th>[0.025</th>\n",
       "      <th>0.975]</th>\n",
       "    </tr>\n",
       "  </thead>\n",
       "  <tbody>\n",
       "    <tr>\n",
       "      <th>const</th>\n",
       "      <td>-7.395737</td>\n",
       "      <td>0.012273</td>\n",
       "      <td>-602.610569</td>\n",
       "      <td>0.000000e+00</td>\n",
       "      <td>-7.419791</td>\n",
       "      <td>-7.371683</td>\n",
       "    </tr>\n",
       "    <tr>\n",
       "      <th>EDAD</th>\n",
       "      <td>0.049924</td>\n",
       "      <td>0.000176</td>\n",
       "      <td>283.097376</td>\n",
       "      <td>0.000000e+00</td>\n",
       "      <td>0.049578</td>\n",
       "      <td>0.050269</td>\n",
       "    </tr>\n",
       "    <tr>\n",
       "      <th>dias_sintomas_ingreso</th>\n",
       "      <td>0.010730</td>\n",
       "      <td>0.000691</td>\n",
       "      <td>15.525458</td>\n",
       "      <td>2.333332e-54</td>\n",
       "      <td>0.009376</td>\n",
       "      <td>0.012085</td>\n",
       "    </tr>\n",
       "    <tr>\n",
       "      <th>UCI</th>\n",
       "      <td>0.578000</td>\n",
       "      <td>0.010802</td>\n",
       "      <td>53.507789</td>\n",
       "      <td>0.000000e+00</td>\n",
       "      <td>0.556828</td>\n",
       "      <td>0.599171</td>\n",
       "    </tr>\n",
       "    <tr>\n",
       "      <th>HOSPITALIZADO</th>\n",
       "      <td>3.971524</td>\n",
       "      <td>0.007716</td>\n",
       "      <td>514.681953</td>\n",
       "      <td>0.000000e+00</td>\n",
       "      <td>3.956400</td>\n",
       "      <td>3.986648</td>\n",
       "    </tr>\n",
       "    <tr>\n",
       "      <th>SEXO</th>\n",
       "      <td>0.326959</td>\n",
       "      <td>0.005424</td>\n",
       "      <td>60.276232</td>\n",
       "      <td>0.000000e+00</td>\n",
       "      <td>0.316328</td>\n",
       "      <td>0.337591</td>\n",
       "    </tr>\n",
       "  </tbody>\n",
       "</table>\n",
       "</div>"
      ],
      "text/plain": [
       "                          Coef.  Std.Err.           z         P>|z|    [0.025  \\\n",
       "const                 -7.395737  0.012273 -602.610569  0.000000e+00 -7.419791   \n",
       "EDAD                   0.049924  0.000176  283.097376  0.000000e+00  0.049578   \n",
       "dias_sintomas_ingreso  0.010730  0.000691   15.525458  2.333332e-54  0.009376   \n",
       "UCI                    0.578000  0.010802   53.507789  0.000000e+00  0.556828   \n",
       "HOSPITALIZADO          3.971524  0.007716  514.681953  0.000000e+00  3.956400   \n",
       "SEXO                   0.326959  0.005424   60.276232  0.000000e+00  0.316328   \n",
       "\n",
       "                         0.975]  \n",
       "const                 -7.371683  \n",
       "EDAD                   0.050269  \n",
       "dias_sintomas_ingreso  0.012085  \n",
       "UCI                    0.599171  \n",
       "HOSPITALIZADO          3.986648  \n",
       "SEXO                   0.337591  "
      ]
     },
     "execution_count": 40,
     "metadata": {},
     "output_type": "execute_result"
    }
   ],
   "source": [
    "X_train = sm.add_constant(df[['EDAD', 'dias_sintomas_ingreso', 'UCI','HOSPITALIZADO','SEXO']])\n",
    "est = smf.Logit(y, X_train).fit()\n",
    "est.summary2().tables[1]"
   ]
  },
  {
   "cell_type": "code",
   "execution_count": null,
   "id": "fa3e942f-6b07-40b7-9b94-4e58fb1f52ef",
   "metadata": {},
   "outputs": [],
   "source": []
  },
  {
   "cell_type": "code",
   "execution_count": 41,
   "id": "7344ab6b",
   "metadata": {},
   "outputs": [],
   "source": [
    "### Figura 4.3 - Confounding"
   ]
  },
  {
   "cell_type": "code",
   "execution_count": 42,
   "id": "0ee43584-9274-4e8a-a5ba-ea41121b7453",
   "metadata": {},
   "outputs": [],
   "source": [
    "# Edad y muerte según HOSPITALIZADO, recuerde que HOSPITALIZADO == 1 es que sí fue hospitalizado\n",
    "# balance and default vectors for students\n",
    "X_train = df[df.HOSPITALIZADO == 1].EDAD.values.reshape(df[df.HOSPITALIZADO == 1].EDAD.size,1) \n",
    "y = df[df.HOSPITALIZADO == 1].Muerto\n",
    "\n",
    "# balance and default vectors for non-students\n",
    "X_train2 = df[df.HOSPITALIZADO == 0].EDAD.values.reshape(df[df.HOSPITALIZADO == 0].EDAD.size,1) \n",
    "y2 = df[df.HOSPITALIZADO == 0].Muerto\n",
    "\n",
    "# Vector with balance values for plotting\n",
    "X_test = np.arange(df.EDAD.min(), df.EDAD.max()).reshape(-1,1)\n",
    "\n",
    "#clf = skl_lm.LogisticRegression(solver='newton-cg')\n",
    "#clf2 = skl_lm.LogisticRegression(solver='newton-cg')\n",
    "clf = skl_lm.LogisticRegression()\n",
    "clf2 = skl_lm.LogisticRegression()\n",
    "\n",
    "clf.fit(X_train,y)\n",
    "clf2.fit(X_train2,y2)\n",
    "\n",
    "prob = clf.predict_proba(X_test)\n",
    "prob2 = clf2.predict_proba(X_test)"
   ]
  },
  {
   "cell_type": "code",
   "execution_count": 43,
   "id": "1e4c7dbb",
   "metadata": {},
   "outputs": [
    {
     "data": {
      "text/html": [
       "<div>\n",
       "<style scoped>\n",
       "    .dataframe tbody tr th:only-of-type {\n",
       "        vertical-align: middle;\n",
       "    }\n",
       "\n",
       "    .dataframe tbody tr th {\n",
       "        vertical-align: top;\n",
       "    }\n",
       "\n",
       "    .dataframe thead th {\n",
       "        text-align: right;\n",
       "    }\n",
       "</style>\n",
       "<table border=\"1\" class=\"dataframe\">\n",
       "  <thead>\n",
       "    <tr style=\"text-align: right;\">\n",
       "      <th>Muerto</th>\n",
       "      <th>0</th>\n",
       "      <th>1</th>\n",
       "    </tr>\n",
       "    <tr>\n",
       "      <th>HOSPITALIZADO</th>\n",
       "      <th></th>\n",
       "      <th></th>\n",
       "    </tr>\n",
       "  </thead>\n",
       "  <tbody>\n",
       "    <tr>\n",
       "      <th>0</th>\n",
       "      <td>2986293</td>\n",
       "      <td>21399</td>\n",
       "    </tr>\n",
       "    <tr>\n",
       "      <th>1</th>\n",
       "      <td>314986</td>\n",
       "      <td>250366</td>\n",
       "    </tr>\n",
       "  </tbody>\n",
       "</table>\n",
       "</div>"
      ],
      "text/plain": [
       "Muerto               0       1\n",
       "HOSPITALIZADO                 \n",
       "0              2986293   21399\n",
       "1               314986  250366"
      ]
     },
     "execution_count": 43,
     "metadata": {},
     "output_type": "execute_result"
    }
   ],
   "source": [
    "df.groupby(['HOSPITALIZADO','Muerto']).size().unstack('Muerto')"
   ]
  },
  {
   "cell_type": "code",
   "execution_count": 44,
   "id": "9eb91d3a-850a-44be-9be9-3eee45f8c642",
   "metadata": {},
   "outputs": [
    {
     "name": "stderr",
     "output_type": "stream",
     "text": [
      "C:\\Users\\jgeis\\anaconda3\\lib\\site-packages\\seaborn\\_decorators.py:36: FutureWarning: Pass the following variables as keyword args: x, y. From version 0.12, the only valid positional argument will be `data`, and passing other arguments without an explicit keyword will result in an error or misinterpretation.\n",
      "  warnings.warn(\n"
     ]
    },
    {
     "data": {
      "image/png": "[encoded data removed]",
      "text/plain": [
       "<Figure size 864x360 with 2 Axes>"
      ]
     },
     "metadata": {},
     "output_type": "display_data"
    }
   ],
   "source": [
    "# creating plot\n",
    "fig, (ax1, ax2) = plt.subplots(1,2, figsize=(12,5))\n",
    "\n",
    "# Left plot\n",
    "ax1.plot(X_test, pd.DataFrame(prob)[1], color='orange', label='HOSPITALIZADO')\n",
    "ax1.plot(X_test, pd.DataFrame(prob2)[1], color='lightblue', label='NO-HOSPITALIZADO')\n",
    "ax1.hlines(233590/295677, colors='orange', label='Overall Student',\n",
    "           xmin=ax1.xaxis.get_data_interval()[0],\n",
    "           xmax=ax1.xaxis.get_data_interval()[1], linestyles='dashed')\n",
    "ax1.hlines(20876/2699735, colors='lightblue', label='Overall NO-HOSPITALIZADO',\n",
    "           xmin=ax1.xaxis.get_data_interval()[0],\n",
    "           xmax=ax1.xaxis.get_data_interval()[1], linestyles='dashed')\n",
    "ax1.set_ylabel('Tasa de Muerte')\n",
    "ax1.set_xlabel('EDAD')\n",
    "#ax1.set_yticks([0, 0.2, 0.4, 0.6, 0.8, 1.])\n",
    "#ax1.set_xlim(450,2500)\n",
    "ax1.legend(loc=2)\n",
    "\n",
    "# Right plot\n",
    "sns.boxplot('HOSPITALIZADO', 'EDAD', data=df, orient='v', ax=ax2,  palette=c_palette);"
   ]
  },
  {
   "cell_type": "code",
   "execution_count": 45,
   "id": "e717617d-b5d9-465b-ba03-fcb32c89679a",
   "metadata": {},
   "outputs": [],
   "source": [
    "#OJO, no puedo modificar la edad de las personas, puedo modificar el  número de días entre síntomas e ingreso\n",
    "#Haremos un modelo que, en lugar de Edad, tome los días entres síntomas e ingreso (atención temprana)"
   ]
  },
  {
   "cell_type": "code",
   "execution_count": 46,
   "id": "2b08b5ff-967e-402d-a6c1-ccae86999f5f",
   "metadata": {},
   "outputs": [],
   "source": [
    "### Figura 4.3 - Confounding (2)"
   ]
  },
  {
   "cell_type": "code",
   "execution_count": 47,
   "id": "98d1cdce-09d1-4fa8-a1bd-11d028635faa",
   "metadata": {},
   "outputs": [],
   "source": [
    "# dias_sintomas_ingreso y muerte según HOSPITALIZADO, recuerde que HOSPITALIZADO == 1 es que sí fue hospitalizado\n",
    "# balance and default vectors for students\n",
    "X_train = df[df.HOSPITALIZADO == 1].dias_sintomas_ingreso.values.reshape(df[df.HOSPITALIZADO == 1].dias_sintomas_ingreso.size,1) \n",
    "y = df[df.HOSPITALIZADO == 1].Muerto\n",
    "\n",
    "# balance and default vectors for non-students\n",
    "X_train2 = df[df.HOSPITALIZADO == 0].dias_sintomas_ingreso.values.reshape(df[df.HOSPITALIZADO == 0].dias_sintomas_ingreso.size,1) \n",
    "y2 = df[df.HOSPITALIZADO == 0].Muerto\n",
    "\n",
    "# Vector with balance values for plotting\n",
    "X_test = np.arange(df.dias_sintomas_ingreso.min(), df.dias_sintomas_ingreso.max()).reshape(-1,1)\n",
    "\n",
    "#clf = skl_lm.LogisticRegression(solver='newton-cg')\n",
    "#clf2 = skl_lm.LogisticRegression(solver='newton-cg')\n",
    "clf = skl_lm.LogisticRegression()\n",
    "clf2 = skl_lm.LogisticRegression()\n",
    "\n",
    "clf.fit(X_train,y)\n",
    "clf2.fit(X_train2,y2)\n",
    "\n",
    "prob = clf.predict_proba(X_test)\n",
    "prob2 = clf2.predict_proba(X_test)"
   ]
  },
  {
   "cell_type": "code",
   "execution_count": 48,
   "id": "3763da17-664c-4bdf-ab15-4c7cabcec743",
   "metadata": {},
   "outputs": [
    {
     "data": {
      "text/html": [
       "<div>\n",
       "<style scoped>\n",
       "    .dataframe tbody tr th:only-of-type {\n",
       "        vertical-align: middle;\n",
       "    }\n",
       "\n",
       "    .dataframe tbody tr th {\n",
       "        vertical-align: top;\n",
       "    }\n",
       "\n",
       "    .dataframe thead th {\n",
       "        text-align: right;\n",
       "    }\n",
       "</style>\n",
       "<table border=\"1\" class=\"dataframe\">\n",
       "  <thead>\n",
       "    <tr style=\"text-align: right;\">\n",
       "      <th>Muerto</th>\n",
       "      <th>0</th>\n",
       "      <th>1</th>\n",
       "    </tr>\n",
       "    <tr>\n",
       "      <th>HOSPITALIZADO</th>\n",
       "      <th></th>\n",
       "      <th></th>\n",
       "    </tr>\n",
       "  </thead>\n",
       "  <tbody>\n",
       "    <tr>\n",
       "      <th>0</th>\n",
       "      <td>2986293</td>\n",
       "      <td>21399</td>\n",
       "    </tr>\n",
       "    <tr>\n",
       "      <th>1</th>\n",
       "      <td>314986</td>\n",
       "      <td>250366</td>\n",
       "    </tr>\n",
       "  </tbody>\n",
       "</table>\n",
       "</div>"
      ],
      "text/plain": [
       "Muerto               0       1\n",
       "HOSPITALIZADO                 \n",
       "0              2986293   21399\n",
       "1               314986  250366"
      ]
     },
     "execution_count": 48,
     "metadata": {},
     "output_type": "execute_result"
    }
   ],
   "source": [
    "df.groupby(['HOSPITALIZADO','Muerto']).size().unstack('Muerto')"
   ]
  },
  {
   "cell_type": "code",
   "execution_count": 49,
   "id": "c917b212-6a66-46c0-93c5-7628b646ea8d",
   "metadata": {},
   "outputs": [
    {
     "name": "stderr",
     "output_type": "stream",
     "text": [
      "C:\\Users\\jgeis\\anaconda3\\lib\\site-packages\\seaborn\\_decorators.py:36: FutureWarning: Pass the following variables as keyword args: x, y. From version 0.12, the only valid positional argument will be `data`, and passing other arguments without an explicit keyword will result in an error or misinterpretation.\n",
      "  warnings.warn(\n"
     ]
    },
    {
     "data": {
      "image/png": "[encoded data removed]",
      "text/plain": [
       "<Figure size 864x360 with 2 Axes>"
      ]
     },
     "metadata": {},
     "output_type": "display_data"
    }
   ],
   "source": [
    "# creating plot\n",
    "fig, (ax1, ax2) = plt.subplots(1,2, figsize=(12,5))\n",
    "\n",
    "# Left plot\n",
    "ax1.plot(X_test, pd.DataFrame(prob)[1], color='orange', label='HOSPITALIZADO')\n",
    "ax1.plot(X_test, pd.DataFrame(prob2)[1], color='lightblue', label='NO-HOSPITALIZADO')\n",
    "ax1.hlines(233590/233590, colors='orange', label='Overall HOSPITALIZADO',\n",
    "           xmin=ax1.xaxis.get_data_interval()[0],\n",
    "           xmax=ax1.xaxis.get_data_interval()[1], linestyles='dashed')\n",
    "ax1.hlines(20876/2699735, colors='lightblue', label='Overall NO-HOSPITALIZADO',\n",
    "           xmin=ax1.xaxis.get_data_interval()[0],\n",
    "           xmax=ax1.xaxis.get_data_interval()[1], linestyles='dashed')\n",
    "ax1.set_ylabel('Tasa de Muerte')\n",
    "ax1.set_xlabel('dias_sintomas_ingreso')\n",
    "#ax1.set_yticks([0, 0.2, 0.4, 0.6, 0.8, 1.])\n",
    "#ax1.set_xlim(450,2500)\n",
    "ax1.legend(loc=2)\n",
    "\n",
    "# Right plot\n",
    "sns.boxplot('HOSPITALIZADO', 'dias_sintomas_ingreso', data=df, orient='v', ax=ax2,  palette=c_palette);"
   ]
  },
  {
   "cell_type": "code",
   "execution_count": null,
   "id": "8b4ca8ab-b167-43a0-9c8f-833deaeccff8",
   "metadata": {},
   "outputs": [],
   "source": []
  }
 ],
 "metadata": {
  "kernelspec": {
   "display_name": "Python 3",
   "language": "python",
   "name": "python3"
  },
  "language_info": {
   "codemirror_mode": {
    "name": "ipython",
    "version": 3
   },
   "file_extension": ".py",
   "mimetype": "text/x-python",
   "name": "python",
   "nbconvert_exporter": "python",
   "pygments_lexer": "ipython3",
   "version": "3.8.8"
  }
 },
 "nbformat": 4,
 "nbformat_minor": 5
}
