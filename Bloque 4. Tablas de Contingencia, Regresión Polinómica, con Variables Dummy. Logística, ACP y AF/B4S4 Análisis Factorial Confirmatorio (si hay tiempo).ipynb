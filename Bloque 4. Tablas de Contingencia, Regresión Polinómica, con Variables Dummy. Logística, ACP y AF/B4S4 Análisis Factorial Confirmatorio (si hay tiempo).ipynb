{
 "cells": [
  {
   "cell_type": "markdown",
   "id": "902caca3-d243-4279-a2e7-e824dd7aae8f",
   "metadata": {},
   "source": [
    "# Análisis Factorial Confirmatorio (AFC)"
   ]
  },
  {
   "cell_type": "code",
   "execution_count": 1,
   "id": "4df16242-72f3-4ff6-8486-45d22a0d0cff",
   "metadata": {},
   "outputs": [],
   "source": [
    "#Basado en el github del Evaluation Testing Service:\n",
    "#https://github.com/EducationalTestingService/factor_analyzer\n",
    "#Los datos se pueden leer directamente de: https://raw.githubusercontent.com/EducationalTestingService/factor_analyzer/main/tests/data/test02.csv"
   ]
  },
  {
   "cell_type": "markdown",
   "id": "2c673a67-4d9f-4539-a5a1-c6374a2b478d",
   "metadata": {},
   "source": [
    "## Impotar librerías"
   ]
  },
  {
   "cell_type": "code",
   "execution_count": 1,
   "id": "d4eba1b5-a28b-4e8b-877b-f42a71bbc85c",
   "metadata": {},
   "outputs": [],
   "source": [
    "# %load ../standard_import.txt\n",
    "import pandas as pd\n",
    "import numpy as np\n",
    "import matplotlib as mpl\n",
    "import matplotlib.pyplot as plt\n",
    "import seaborn as sns\n",
    "\n",
    "from sklearn.preprocessing import scale\n",
    "from sklearn.decomposition import PCA\n",
    "from sklearn.cluster import KMeans\n",
    "\n",
    "from scipy.cluster import hierarchy\n",
    "\n",
    "%matplotlib inline\n",
    "plt.style.use('seaborn-white')\n",
    "\n",
    "from factor_analyzer import FactorAnalyzer\n",
    "from factor_analyzer import (ConfirmatoryFactorAnalyzer,\n",
    "                             ModelSpecificationParser)"
   ]
  },
  {
   "cell_type": "markdown",
   "id": "11804b1f-6d1e-4242-8379-1c3b08e5074a",
   "metadata": {},
   "source": [
    "## Importar los datos"
   ]
  },
  {
   "cell_type": "code",
   "execution_count": 2,
   "id": "a6465074-40f5-4671-b9fe-a626422d0b5f",
   "metadata": {},
   "outputs": [
    {
     "name": "stdout",
     "output_type": "stream",
     "text": [
      "<class 'pandas.core.frame.DataFrame'>\n",
      "Int64Index: 1678 entries, 2 to 1\n",
      "Data columns (total 9 columns):\n",
      " #   Column    Non-Null Count  Dtype\n",
      "---  ------    --------------  -----\n",
      " 0   zygosity  1678 non-null   int64\n",
      " 1   moed      1678 non-null   int64\n",
      " 2   faed      1678 non-null   int64\n",
      " 3   faminc    1678 non-null   int64\n",
      " 4   english   1678 non-null   int64\n",
      " 5   math      1678 non-null   int64\n",
      " 6   socsci    1678 non-null   int64\n",
      " 7   natsci    1678 non-null   int64\n",
      " 8   vocab     1678 non-null   int64\n",
      "dtypes: int64(9)\n",
      "memory usage: 131.1 KB\n"
     ]
    }
   ],
   "source": [
    "# Carga de datos\n",
    "df_features02 = pd.read_csv('https://raw.githubusercontent.com/EducationalTestingService/factor_analyzer/main/tests/data/test02.csv', index_col=0)\n",
    "df_features02.info()"
   ]
  },
  {
   "cell_type": "markdown",
   "id": "8418d837-34a7-42e5-87a8-1ad53429a3b6",
   "metadata": {},
   "source": [
    "## Análisis Factorial"
   ]
  },
  {
   "cell_type": "code",
   "execution_count": 3,
   "id": "d2ea874f-13c3-4f58-903b-c26edb2dd89f",
   "metadata": {},
   "outputs": [
    {
     "data": {
      "text/plain": [
       "FactorAnalyzer(rotation='varimax', rotation_kwargs={})"
      ]
     },
     "execution_count": 3,
     "metadata": {},
     "output_type": "execute_result"
    }
   ],
   "source": [
    "fa = FactorAnalyzer(rotation='varimax')\n",
    "fa.fit(df_features02)"
   ]
  },
  {
   "cell_type": "code",
   "execution_count": 4,
   "id": "bedf4a5b-30a6-4951-94b3-c6026109e24c",
   "metadata": {},
   "outputs": [
    {
     "data": {
      "text/plain": [
       "array([[ 0.0130604 ,  0.05302504,  0.05673551],\n",
       "       [ 0.07284237,  0.70217185,  0.07990228],\n",
       "       [ 0.12840347,  0.8406644 ,  0.07872461],\n",
       "       [ 0.1619275 ,  0.54853408,  0.05498724],\n",
       "       [ 0.72917051,  0.13034093,  0.04584536],\n",
       "       [ 0.69439413,  0.14104724,  0.33393446],\n",
       "       [ 0.8400285 ,  0.13482517,  0.0291735 ],\n",
       "       [ 0.76432041,  0.06320179,  0.35565568],\n",
       "       [ 0.89395299,  0.21061284, -0.27848264]])"
      ]
     },
     "execution_count": 4,
     "metadata": {},
     "output_type": "execute_result"
    }
   ],
   "source": [
    "fa.loadings_"
   ]
  },
  {
   "cell_type": "code",
   "execution_count": 5,
   "id": "e4358d21-3986-4f9e-9a5a-aeaa52d81772",
   "metadata": {},
   "outputs": [
    {
     "data": {
      "text/plain": [
       "array([0.00620115, 0.50473569, 0.72940166, 0.33013375, 0.55078019,\n",
       "       0.61358976, 0.72467681, 0.71467111, 0.92106231])"
      ]
     },
     "execution_count": 5,
     "metadata": {},
     "output_type": "execute_result"
    }
   ],
   "source": [
    "fa.get_communalities()"
   ]
  },
  {
   "cell_type": "markdown",
   "id": "b25eb591-6d44-44fb-93f3-8e8449a457c1",
   "metadata": {},
   "source": [
    "## Análisis Confirmatorio"
   ]
  },
  {
   "cell_type": "code",
   "execution_count": 10,
   "id": "d591725e-a20e-4941-b56b-38d4b685824a",
   "metadata": {},
   "outputs": [],
   "source": [
    "#Carga de datos\n",
    "df_features11 = pd.read_csv('https://raw.githubusercontent.com/EducationalTestingService/factor_analyzer/main/tests/data/test11.csv')"
   ]
  },
  {
   "cell_type": "code",
   "execution_count": 11,
   "id": "97789d22-be53-4062-8fae-7ccbf73fca99",
   "metadata": {},
   "outputs": [
    {
     "name": "stdout",
     "output_type": "stream",
     "text": [
      "<class 'pandas.core.frame.DataFrame'>\n",
      "RangeIndex: 1000 entries, 0 to 999\n",
      "Data columns (total 8 columns):\n",
      " #   Column  Non-Null Count  Dtype  \n",
      "---  ------  --------------  -----  \n",
      " 0   V1      1000 non-null   float64\n",
      " 1   V2      1000 non-null   float64\n",
      " 2   V3      1000 non-null   float64\n",
      " 3   V4      1000 non-null   float64\n",
      " 4   V5      1000 non-null   float64\n",
      " 5   V6      1000 non-null   float64\n",
      " 6   V7      1000 non-null   float64\n",
      " 7   V8      1000 non-null   float64\n",
      "dtypes: float64(8)\n",
      "memory usage: 62.6 KB\n"
     ]
    }
   ],
   "source": [
    "df_features11.info()"
   ]
  },
  {
   "cell_type": "code",
   "execution_count": 13,
   "id": "018e8665-172e-496d-a07a-731d7174105c",
   "metadata": {},
   "outputs": [
    {
     "data": {
      "text/plain": [
       "ConfirmatoryFactorAnalyzer(disp=False, n_obs=1000,\n",
       "                           specification=<factor_analyzer.confirmatory_factor_analyzer.ModelSpecification object at 0x000001AE3AC37250>)"
      ]
     },
     "execution_count": 13,
     "metadata": {},
     "output_type": "execute_result"
    }
   ],
   "source": [
    "\n",
    "model_dict = {\"F1\": [\"V1\", \"V2\", \"V3\", \"V4\"],\n",
    "              \"F2\": [\"V5\", \"V6\", \"V7\", \"V8\"]}\n",
    "model_spec = ModelSpecificationParser.parse_model_specification_from_dict(df_features11,\n",
    "                                                                          model_dict)\n",
    "\n",
    "cfa = ConfirmatoryFactorAnalyzer(model_spec, disp=False)\n",
    "\n",
    "cfa.fit(df_features11.values)\n"
   ]
  },
  {
   "cell_type": "code",
   "execution_count": null,
   "id": "f9426f99-1643-4887-9fd6-e8f46e631ab7",
   "metadata": {},
   "outputs": [],
   "source": []
  },
  {
   "cell_type": "code",
   "execution_count": 14,
   "id": "2345b2b2-5239-484b-83a0-08e1c9916779",
   "metadata": {},
   "outputs": [
    {
     "data": {
      "text/plain": [
       "array([[0.99131035, 0.        ],\n",
       "       [0.46075129, 0.        ],\n",
       "       [0.35022393, 0.        ],\n",
       "       [0.58331139, 0.        ],\n",
       "       [0.        , 0.98621366],\n",
       "       [0.        , 0.73389146],\n",
       "       [0.        , 0.37602713],\n",
       "       [0.        , 0.50049193]])"
      ]
     },
     "execution_count": 14,
     "metadata": {},
     "output_type": "execute_result"
    }
   ],
   "source": [
    "cfa.loadings_"
   ]
  },
  {
   "cell_type": "code",
   "execution_count": 15,
   "id": "df0dbd5e-0170-4502-82d1-3fca7198c838",
   "metadata": {},
   "outputs": [
    {
     "data": {
      "text/plain": [
       "array([[1.        , 0.17385698],\n",
       "       [0.17385698, 1.        ]])"
      ]
     },
     "execution_count": 15,
     "metadata": {},
     "output_type": "execute_result"
    }
   ],
   "source": [
    "cfa.factor_varcovs_"
   ]
  },
  {
   "cell_type": "code",
   "execution_count": 16,
   "id": "035a08c2-670b-41c2-9383-693861093fd0",
   "metadata": {},
   "outputs": [
    {
     "data": {
      "text/plain": [
       "array([[-0.46852279, -1.08707326],\n",
       "       [ 2.59026044,  1.20227579],\n",
       "       [-0.4721608 ,  2.65696545],\n",
       "       ...,\n",
       "       [-1.59308951, -0.918051  ],\n",
       "       [ 0.19431265,  0.88174776],\n",
       "       [-0.2786335 , -0.76951055]])"
      ]
     },
     "execution_count": 16,
     "metadata": {},
     "output_type": "execute_result"
    }
   ],
   "source": [
    "cfa.transform(df_features11.values)"
   ]
  },
  {
   "cell_type": "markdown",
   "id": "63915462-59e7-4941-8e37-aceb5aa66fb7",
   "metadata": {},
   "source": [
    "### Visualización"
   ]
  },
  {
   "cell_type": "code",
   "execution_count": 17,
   "id": "d814a42b-07ce-43fc-ae3d-ad8fa4298bf8",
   "metadata": {},
   "outputs": [],
   "source": [
    "#El tutorial de funciones completas se puede ver en:\n",
    "#https://semopy.com/syntax.html\n",
    "#También hay un ejemplo en:\n",
    "#https://towardsdatascience.com/structural-equation-modeling-dca298798f4d"
   ]
  },
  {
   "cell_type": "code",
   "execution_count": 18,
   "id": "eaed514b-6f44-444e-b613-24049eaaea6d",
   "metadata": {},
   "outputs": [],
   "source": [
    "#!pip install semopy"
   ]
  },
  {
   "cell_type": "code",
   "execution_count": 19,
   "id": "0e555efc-1c9d-4def-aaa2-5a6f4cc86502",
   "metadata": {},
   "outputs": [],
   "source": [
    "#!conda install python-graphviz"
   ]
  },
  {
   "cell_type": "markdown",
   "id": "5b004599-04f9-4172-9478-f16c38408905",
   "metadata": {},
   "source": [
    "## Análisis confirmatorio para datos de test11.csv"
   ]
  },
  {
   "cell_type": "code",
   "execution_count": 20,
   "id": "275616aa-598b-4eed-9c64-81c1571124f6",
   "metadata": {},
   "outputs": [],
   "source": [
    "import semopy"
   ]
  },
  {
   "cell_type": "code",
   "execution_count": 21,
   "id": "87ce63bc-8c78-49c5-9242-ebebe2077195",
   "metadata": {},
   "outputs": [],
   "source": [
    "data = semopy.examples.political_democracy.get_data()\n",
    "mod = semopy.examples.political_democracy.get_model()"
   ]
  },
  {
   "cell_type": "code",
   "execution_count": 22,
   "id": "c34d5334-6cf5-467a-b419-3426f463f1c4",
   "metadata": {
    "tags": []
   },
   "outputs": [],
   "source": [
    "m = semopy.Model(mod)\n",
    "m.fit(data)\n",
    "g = semopy.semplot(m, \"pd.png\")"
   ]
  },
  {
   "cell_type": "code",
   "execution_count": 23,
   "id": "beb1ca4e-8a99-4128-89d3-2ac0e9c6adfd",
   "metadata": {},
   "outputs": [],
   "source": [
    "# Specify the model relations using the same syntax given before\n",
    "# Usaremos los datos en df_features, pra no cargar el de la página original\n",
    "model_spec ='''\n",
    "  # measurement model\n",
    "    Y1 =~ V1 + V2 + V3 + V4\n",
    "    Y2 =~ V5 + V6 + V7 + V8\n",
    "'''"
   ]
  },
  {
   "cell_type": "code",
   "execution_count": 24,
   "id": "5d1752fd-8b2a-4928-aeba-7c4611424338",
   "metadata": {},
   "outputs": [],
   "source": [
    "# Instantiate the model\n",
    "model = semopy.Model(model_spec)\n"
   ]
  },
  {
   "cell_type": "code",
   "execution_count": 25,
   "id": "f66b3ac5-7963-41b3-8551-f42e0c7a4a25",
   "metadata": {},
   "outputs": [],
   "source": [
    "# Fit the model using the data\n",
    "model.fit(df_features11)\n",
    "\n",
    "# Show the results using the inspect method\n",
    "model.inspect()\n",
    "\n",
    "#Plot\n",
    "g = semopy.semplot(model, \"test11_cfa.png\")"
   ]
  },
  {
   "cell_type": "code",
   "execution_count": 26,
   "id": "9a5921ec-727f-4237-ae52-e173966e8879",
   "metadata": {},
   "outputs": [
    {
     "data": {
      "text/plain": [
       "array([[False, False, False],\n",
       "       [False,  True, False],\n",
       "       [False,  True, False],\n",
       "       [False,  True, False],\n",
       "       [ True, False, False],\n",
       "       [ True, False, False],\n",
       "       [ True, False, False],\n",
       "       [ True, False, False],\n",
       "       [ True, False, False]])"
      ]
     },
     "execution_count": 26,
     "metadata": {},
     "output_type": "execute_result"
    }
   ],
   "source": [
    "### Análisis de datos test02 (no conozco la asociación la haré con el AF)\n",
    "fa.loadings_>.4"
   ]
  },
  {
   "cell_type": "markdown",
   "id": "e4559ac0-ee5e-45cc-a83e-2773c5c55209",
   "metadata": {},
   "source": [
    "#Variables en los datos test02\n",
    "\n",
    "| 0  | zygosity  1678 non-null   int64\n",
    "| 1  | moed      1678 non-null   int64\n",
    "| 2  | faed      1678 non-null   int64\n",
    "| 3  | faminc    1678 non-null   int64\n",
    "| 4  | english   1678 non-null   int64\n",
    "| 5  | math      1678 non-null   int64\n",
    "| 6  | socsci    1678 non-null   int64\n",
    "| 7  | natsci    1678 non-null   int64\n",
    "| 8  | vocab     1678 non-null   int64"
   ]
  },
  {
   "cell_type": "code",
   "execution_count": 27,
   "id": "135b2dd0-6770-4c17-b5a7-712532427e7e",
   "metadata": {},
   "outputs": [],
   "source": [
    "model_spec='''\n",
    "    # measurement model\n",
    "    F1 =~ math + socsci + vocab\n",
    "    F2 =~ moed + faed + english\n",
    "    # covariance\n",
    "    F1 ~~ F2\n",
    "'''"
   ]
  },
  {
   "cell_type": "code",
   "execution_count": 28,
   "id": "a86f9e19-365c-40d2-95c1-a2778828af5e",
   "metadata": {},
   "outputs": [],
   "source": [
    "# Instantiate the model\n",
    "model = semopy.Model(model_spec)"
   ]
  },
  {
   "cell_type": "code",
   "execution_count": 29,
   "id": "ca7af436-466f-4937-8e2d-92ffd6f1ae6b",
   "metadata": {},
   "outputs": [],
   "source": [
    "# Fit the model using the data\n",
    "model.fit(df_features02)\n",
    "\n",
    "# Show the results using the inspect method\n",
    "model.inspect()\n",
    "\n",
    "#Plot\n",
    "g = semopy.semplot(model, \"test02_cfa2.png\")\n"
   ]
  },
  {
   "cell_type": "code",
   "execution_count": 30,
   "id": "65c0f003-b8d8-4287-9eed-a9d896afeb15",
   "metadata": {},
   "outputs": [
    {
     "data": {
      "text/plain": [
       "<semopy.model.Model at 0x1ae384007c0>"
      ]
     },
     "execution_count": 30,
     "metadata": {},
     "output_type": "execute_result"
    }
   ],
   "source": [
    "model"
   ]
  },
  {
   "cell_type": "code",
   "execution_count": 90,
   "id": "57a0f120-f8d9-494b-acd3-9e8821632598",
   "metadata": {},
   "outputs": [
    {
     "name": "stdout",
     "output_type": "stream",
     "text": [
      "<bound method Model.fit of <semopy.model.Model object at 0x0000027C226EFAF0>>\n"
     ]
    }
   ],
   "source": []
  }
 ],
 "metadata": {
  "kernelspec": {
   "display_name": "Python 3",
   "language": "python",
   "name": "python3"
  },
  "language_info": {
   "codemirror_mode": {
    "name": "ipython",
    "version": 3
   },
   "file_extension": ".py",
   "mimetype": "text/x-python",
   "name": "python",
   "nbconvert_exporter": "python",
   "pygments_lexer": "ipython3",
   "version": "3.8.8"
  }
 },
 "nbformat": 4,
 "nbformat_minor": 5
}
