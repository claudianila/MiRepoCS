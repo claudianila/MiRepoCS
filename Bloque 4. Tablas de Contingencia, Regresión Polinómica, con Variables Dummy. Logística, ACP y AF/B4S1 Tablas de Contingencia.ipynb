{
 "cells": [
  {
   "cell_type": "markdown",
   "id": "731a8cf2-b705-4cc3-87b8-9e2db58c3707",
   "metadata": {},
   "source": [
    "### B4S1 Tablas de Contingencia"
   ]
  },
  {
   "cell_type": "code",
   "execution_count": 1,
   "id": "b6c39457-9f3b-467e-9069-1c6c575497e8",
   "metadata": {},
   "outputs": [],
   "source": [
    "# <!-- collapse=True -->\n",
    "# importando modulos necesarios\n",
    "%matplotlib inline\n",
    "\n",
    "import matplotlib.pyplot as plt\n",
    "import numpy as np \n",
    "import pandas as pd \n",
    "import seaborn as sns \n",
    "from pydataset import data\n",
    "\n",
    "# parametros esteticos de seaborn\n",
    "sns.set_palette(\"deep\", desat=.6)\n",
    "sns.set_context(rc={\"figure.figsize\": (8, 4)})"
   ]
  },
  {
   "cell_type": "code",
   "execution_count": 2,
   "id": "3a95c22a",
   "metadata": {},
   "outputs": [],
   "source": [
    "#!pip install pydataset\n"
   ]
  },
  {
   "cell_type": "code",
   "execution_count": 3,
   "id": "58ba668c-947b-426e-a235-d38d9a0714ef",
   "metadata": {},
   "outputs": [],
   "source": [
    "# importando dataset\n",
    "titanic = data('titanic')"
   ]
  },
  {
   "cell_type": "code",
   "execution_count": 4,
   "id": "d45d6a7e",
   "metadata": {},
   "outputs": [
    {
     "data": {
      "text/html": [
       "<div>\n",
       "<style scoped>\n",
       "    .dataframe tbody tr th:only-of-type {\n",
       "        vertical-align: middle;\n",
       "    }\n",
       "\n",
       "    .dataframe tbody tr th {\n",
       "        vertical-align: top;\n",
       "    }\n",
       "\n",
       "    .dataframe thead th {\n",
       "        text-align: right;\n",
       "    }\n",
       "</style>\n",
       "<table border=\"1\" class=\"dataframe\">\n",
       "  <thead>\n",
       "    <tr style=\"text-align: right;\">\n",
       "      <th></th>\n",
       "      <th>class</th>\n",
       "      <th>age</th>\n",
       "      <th>sex</th>\n",
       "      <th>survived</th>\n",
       "    </tr>\n",
       "  </thead>\n",
       "  <tbody>\n",
       "    <tr>\n",
       "      <th>1</th>\n",
       "      <td>1st class</td>\n",
       "      <td>adults</td>\n",
       "      <td>man</td>\n",
       "      <td>yes</td>\n",
       "    </tr>\n",
       "    <tr>\n",
       "      <th>2</th>\n",
       "      <td>1st class</td>\n",
       "      <td>adults</td>\n",
       "      <td>man</td>\n",
       "      <td>yes</td>\n",
       "    </tr>\n",
       "    <tr>\n",
       "      <th>3</th>\n",
       "      <td>1st class</td>\n",
       "      <td>adults</td>\n",
       "      <td>man</td>\n",
       "      <td>yes</td>\n",
       "    </tr>\n",
       "    <tr>\n",
       "      <th>4</th>\n",
       "      <td>1st class</td>\n",
       "      <td>adults</td>\n",
       "      <td>man</td>\n",
       "      <td>yes</td>\n",
       "    </tr>\n",
       "    <tr>\n",
       "      <th>5</th>\n",
       "      <td>1st class</td>\n",
       "      <td>adults</td>\n",
       "      <td>man</td>\n",
       "      <td>yes</td>\n",
       "    </tr>\n",
       "    <tr>\n",
       "      <th>6</th>\n",
       "      <td>1st class</td>\n",
       "      <td>adults</td>\n",
       "      <td>man</td>\n",
       "      <td>yes</td>\n",
       "    </tr>\n",
       "    <tr>\n",
       "      <th>7</th>\n",
       "      <td>1st class</td>\n",
       "      <td>adults</td>\n",
       "      <td>man</td>\n",
       "      <td>yes</td>\n",
       "    </tr>\n",
       "    <tr>\n",
       "      <th>8</th>\n",
       "      <td>1st class</td>\n",
       "      <td>adults</td>\n",
       "      <td>man</td>\n",
       "      <td>yes</td>\n",
       "    </tr>\n",
       "    <tr>\n",
       "      <th>9</th>\n",
       "      <td>1st class</td>\n",
       "      <td>adults</td>\n",
       "      <td>man</td>\n",
       "      <td>yes</td>\n",
       "    </tr>\n",
       "    <tr>\n",
       "      <th>10</th>\n",
       "      <td>1st class</td>\n",
       "      <td>adults</td>\n",
       "      <td>man</td>\n",
       "      <td>yes</td>\n",
       "    </tr>\n",
       "  </tbody>\n",
       "</table>\n",
       "</div>"
      ],
      "text/plain": [
       "        class     age  sex survived\n",
       "1   1st class  adults  man      yes\n",
       "2   1st class  adults  man      yes\n",
       "3   1st class  adults  man      yes\n",
       "4   1st class  adults  man      yes\n",
       "5   1st class  adults  man      yes\n",
       "6   1st class  adults  man      yes\n",
       "7   1st class  adults  man      yes\n",
       "8   1st class  adults  man      yes\n",
       "9   1st class  adults  man      yes\n",
       "10  1st class  adults  man      yes"
      ]
     },
     "execution_count": 4,
     "metadata": {},
     "output_type": "execute_result"
    }
   ],
   "source": [
    "# ver primeros 10 registros\n",
    "titanic.head(10)"
   ]
  },
  {
   "cell_type": "markdown",
   "id": "f53722b4",
   "metadata": {},
   "source": [
    "# Tablas de frecuencia\n",
    "\n",
    "\n",
    "## tabla de frecuencia de clases de pasajeros\n"
   ]
  },
  {
   "cell_type": "code",
   "execution_count": 5,
   "id": "a76895a8",
   "metadata": {},
   "outputs": [
    {
     "data": {
      "text/plain": [
       "3rd class    706\n",
       "1st class    325\n",
       "2nd class    285\n",
       "Name: class, dtype: int64"
      ]
     },
     "execution_count": 5,
     "metadata": {},
     "output_type": "execute_result"
    }
   ],
   "source": [
    "pd.value_counts(titanic['class'])"
   ]
  },
  {
   "cell_type": "code",
   "execution_count": 6,
   "id": "c3ceb169",
   "metadata": {},
   "outputs": [
    {
     "data": {
      "text/plain": [
       "3rd class    53.647416\n",
       "1st class    24.696049\n",
       "2nd class    21.656535\n",
       "Name: class, dtype: float64"
      ]
     },
     "execution_count": 6,
     "metadata": {},
     "output_type": "execute_result"
    }
   ],
   "source": [
    "# tabla de frecuencia relativa de pasajeros\n",
    "100 * titanic['class'].value_counts() / len(titanic['class'])"
   ]
  },
  {
   "cell_type": "code",
   "execution_count": null,
   "id": "b91c9aea",
   "metadata": {},
   "outputs": [],
   "source": []
  },
  {
   "cell_type": "code",
   "execution_count": 7,
   "id": "a8b73729",
   "metadata": {},
   "outputs": [
    {
     "data": {
      "image/png": "[encoded data removed]",
      "text/plain": [
       "<Figure size 432x288 with 1 Axes>"
      ]
     },
     "metadata": {
      "needs_background": "light"
     },
     "output_type": "display_data"
    }
   ],
   "source": [
    "# Gráfico de barras de pasajeros del Titanic\n",
    "plot = titanic['class'].value_counts().plot(kind='bar',\n",
    "                                            title='Pasajeros del Titanic')"
   ]
  },
  {
   "cell_type": "code",
   "execution_count": 8,
   "id": "280b9440",
   "metadata": {},
   "outputs": [
    {
     "data": {
      "image/png": "[encoded data removed]",
      "text/plain": [
       "<Figure size 432x288 with 1 Axes>"
      ]
     },
     "metadata": {
      "needs_background": "light"
     },
     "output_type": "display_data"
    }
   ],
   "source": [
    "# gráfico de barras de frecuencias relativas.\n",
    "plot = (100 * titanic['class'].value_counts()/len(titanic['class'])).plot(\n",
    "    kind='bar', title='% de Pasajeros del Titanic por Clase')"
   ]
  },
  {
   "cell_type": "code",
   "execution_count": 9,
   "id": "dbf10aca",
   "metadata": {},
   "outputs": [
    {
     "data": {
      "image/png": "[encoded data removed]",
      "text/plain": [
       "<Figure size 432x432 with 1 Axes>"
      ]
     },
     "metadata": {},
     "output_type": "display_data"
    }
   ],
   "source": [
    "# Gráfico de pastel de pasajeros del Titanic\n",
    "plot = titanic['class'].value_counts().plot(kind='pie', autopct='%.2f', \n",
    "                                            figsize=(6, 6),\n",
    "                                            title='Pasajeros del Titanic')"
   ]
  },
  {
   "cell_type": "code",
   "execution_count": 10,
   "id": "dabd5d6a",
   "metadata": {},
   "outputs": [
    {
     "data": {
      "text/html": [
       "<div>\n",
       "<style scoped>\n",
       "    .dataframe tbody tr th:only-of-type {\n",
       "        vertical-align: middle;\n",
       "    }\n",
       "\n",
       "    .dataframe tbody tr th {\n",
       "        vertical-align: top;\n",
       "    }\n",
       "\n",
       "    .dataframe thead th {\n",
       "        text-align: right;\n",
       "    }\n",
       "</style>\n",
       "<table border=\"1\" class=\"dataframe\">\n",
       "  <thead>\n",
       "    <tr style=\"text-align: right;\">\n",
       "      <th>class</th>\n",
       "      <th>1st class</th>\n",
       "      <th>2nd class</th>\n",
       "      <th>3rd class</th>\n",
       "      <th>All</th>\n",
       "    </tr>\n",
       "    <tr>\n",
       "      <th>survived</th>\n",
       "      <th></th>\n",
       "      <th></th>\n",
       "      <th></th>\n",
       "      <th></th>\n",
       "    </tr>\n",
       "  </thead>\n",
       "  <tbody>\n",
       "    <tr>\n",
       "      <th>no</th>\n",
       "      <td>122</td>\n",
       "      <td>167</td>\n",
       "      <td>528</td>\n",
       "      <td>817</td>\n",
       "    </tr>\n",
       "    <tr>\n",
       "      <th>yes</th>\n",
       "      <td>203</td>\n",
       "      <td>118</td>\n",
       "      <td>178</td>\n",
       "      <td>499</td>\n",
       "    </tr>\n",
       "    <tr>\n",
       "      <th>All</th>\n",
       "      <td>325</td>\n",
       "      <td>285</td>\n",
       "      <td>706</td>\n",
       "      <td>1316</td>\n",
       "    </tr>\n",
       "  </tbody>\n",
       "</table>\n",
       "</div>"
      ],
      "text/plain": [
       "class     1st class  2nd class  3rd class   All\n",
       "survived                                       \n",
       "no              122        167        528   817\n",
       "yes             203        118        178   499\n",
       "All             325        285        706  1316"
      ]
     },
     "execution_count": 10,
     "metadata": {},
     "output_type": "execute_result"
    }
   ],
   "source": [
    "# Tabla de contingencia class / survived\n",
    "pd.crosstab(index=titanic['survived'],\n",
    "            columns=titanic['class'], margins=True)"
   ]
  },
  {
   "cell_type": "code",
   "execution_count": 11,
   "id": "df2f9f41",
   "metadata": {},
   "outputs": [
    {
     "data": {
      "text/html": [
       "<div>\n",
       "<style scoped>\n",
       "    .dataframe tbody tr th:only-of-type {\n",
       "        vertical-align: middle;\n",
       "    }\n",
       "\n",
       "    .dataframe tbody tr th {\n",
       "        vertical-align: top;\n",
       "    }\n",
       "\n",
       "    .dataframe thead th {\n",
       "        text-align: right;\n",
       "    }\n",
       "</style>\n",
       "<table border=\"1\" class=\"dataframe\">\n",
       "  <thead>\n",
       "    <tr style=\"text-align: right;\">\n",
       "      <th>sex</th>\n",
       "      <th>man</th>\n",
       "      <th>women</th>\n",
       "      <th>All</th>\n",
       "    </tr>\n",
       "    <tr>\n",
       "      <th>survived</th>\n",
       "      <th></th>\n",
       "      <th></th>\n",
       "      <th></th>\n",
       "    </tr>\n",
       "  </thead>\n",
       "  <tbody>\n",
       "    <tr>\n",
       "      <th>no</th>\n",
       "      <td>52.735562</td>\n",
       "      <td>9.346505</td>\n",
       "      <td>62.082067</td>\n",
       "    </tr>\n",
       "    <tr>\n",
       "      <th>yes</th>\n",
       "      <td>13.297872</td>\n",
       "      <td>24.620061</td>\n",
       "      <td>37.917933</td>\n",
       "    </tr>\n",
       "    <tr>\n",
       "      <th>All</th>\n",
       "      <td>66.033435</td>\n",
       "      <td>33.966565</td>\n",
       "      <td>100.000000</td>\n",
       "    </tr>\n",
       "  </tbody>\n",
       "</table>\n",
       "</div>"
      ],
      "text/plain": [
       "sex             man      women         All\n",
       "survived                                  \n",
       "no        52.735562   9.346505   62.082067\n",
       "yes       13.297872  24.620061   37.917933\n",
       "All       66.033435  33.966565  100.000000"
      ]
     },
     "execution_count": 11,
     "metadata": {},
     "output_type": "execute_result"
    }
   ],
   "source": [
    "# tabla de contingencia en porcentajes relativos total\n",
    "pd.crosstab(index=titanic['survived'], columns=titanic['sex'],\n",
    "            margins=True).apply(lambda r: r/len(titanic) *100,\n",
    "                                axis=1)"
   ]
  },
  {
   "cell_type": "code",
   "execution_count": 12,
   "id": "ab469684",
   "metadata": {},
   "outputs": [
    {
     "data": {
      "text/html": [
       "<div>\n",
       "<style scoped>\n",
       "    .dataframe tbody tr th:only-of-type {\n",
       "        vertical-align: middle;\n",
       "    }\n",
       "\n",
       "    .dataframe tbody tr th {\n",
       "        vertical-align: top;\n",
       "    }\n",
       "\n",
       "    .dataframe thead th {\n",
       "        text-align: right;\n",
       "    }\n",
       "</style>\n",
       "<table border=\"1\" class=\"dataframe\">\n",
       "  <thead>\n",
       "    <tr style=\"text-align: right;\">\n",
       "      <th>class</th>\n",
       "      <th>1st class</th>\n",
       "      <th>2nd class</th>\n",
       "      <th>3rd class</th>\n",
       "    </tr>\n",
       "    <tr>\n",
       "      <th>survived</th>\n",
       "      <th></th>\n",
       "      <th></th>\n",
       "      <th></th>\n",
       "    </tr>\n",
       "  </thead>\n",
       "  <tbody>\n",
       "    <tr>\n",
       "      <th>no</th>\n",
       "      <td>14.932681</td>\n",
       "      <td>20.440636</td>\n",
       "      <td>64.626683</td>\n",
       "    </tr>\n",
       "    <tr>\n",
       "      <th>yes</th>\n",
       "      <td>40.681363</td>\n",
       "      <td>23.647295</td>\n",
       "      <td>35.671343</td>\n",
       "    </tr>\n",
       "  </tbody>\n",
       "</table>\n",
       "</div>"
      ],
      "text/plain": [
       "class     1st class  2nd class  3rd class\n",
       "survived                                 \n",
       "no        14.932681  20.440636  64.626683\n",
       "yes       40.681363  23.647295  35.671343"
      ]
     },
     "execution_count": 12,
     "metadata": {},
     "output_type": "execute_result"
    }
   ],
   "source": [
    "# tabla de contingencia en porcentajes relativos segun sobreviviente\n",
    "pd.crosstab(index=titanic['survived'], columns=titanic['class']\n",
    "           ).apply(lambda r: r/r.sum() *100,\n",
    "                                axis=1)"
   ]
  },
  {
   "cell_type": "code",
   "execution_count": 13,
   "id": "b00767c3",
   "metadata": {},
   "outputs": [
    {
     "data": {
      "text/html": [
       "<div>\n",
       "<style scoped>\n",
       "    .dataframe tbody tr th:only-of-type {\n",
       "        vertical-align: middle;\n",
       "    }\n",
       "\n",
       "    .dataframe tbody tr th {\n",
       "        vertical-align: top;\n",
       "    }\n",
       "\n",
       "    .dataframe thead th {\n",
       "        text-align: right;\n",
       "    }\n",
       "</style>\n",
       "<table border=\"1\" class=\"dataframe\">\n",
       "  <thead>\n",
       "    <tr style=\"text-align: right;\">\n",
       "      <th>class</th>\n",
       "      <th>1st class</th>\n",
       "      <th>2nd class</th>\n",
       "      <th>3rd class</th>\n",
       "    </tr>\n",
       "    <tr>\n",
       "      <th>survived</th>\n",
       "      <th></th>\n",
       "      <th></th>\n",
       "      <th></th>\n",
       "    </tr>\n",
       "  </thead>\n",
       "  <tbody>\n",
       "    <tr>\n",
       "      <th>no</th>\n",
       "      <td>37.538462</td>\n",
       "      <td>58.596491</td>\n",
       "      <td>74.787535</td>\n",
       "    </tr>\n",
       "    <tr>\n",
       "      <th>yes</th>\n",
       "      <td>62.461538</td>\n",
       "      <td>41.403509</td>\n",
       "      <td>25.212465</td>\n",
       "    </tr>\n",
       "  </tbody>\n",
       "</table>\n",
       "</div>"
      ],
      "text/plain": [
       "class     1st class  2nd class  3rd class\n",
       "survived                                 \n",
       "no        37.538462  58.596491  74.787535\n",
       "yes       62.461538  41.403509  25.212465"
      ]
     },
     "execution_count": 13,
     "metadata": {},
     "output_type": "execute_result"
    }
   ],
   "source": [
    "# tabla de contingencia en porcentajes relativos segun clase\n",
    "pd.crosstab(index=titanic['survived'], columns=titanic['class']\n",
    "           ).apply(lambda r: r/r.sum() *100,\n",
    "                                axis=0)"
   ]
  },
  {
   "cell_type": "code",
   "execution_count": 14,
   "id": "3a508c49",
   "metadata": {},
   "outputs": [
    {
     "data": {
      "image/png": "[encoded data removed]",
      "text/plain": [
       "<Figure size 432x288 with 1 Axes>"
      ]
     },
     "metadata": {
      "needs_background": "light"
     },
     "output_type": "display_data"
    }
   ],
   "source": [
    "# Gráfico de barras de sobreviviviente segun clase\n",
    "plot = pd.crosstab(index=titanic['class'],\n",
    "            columns=titanic['survived']).apply(lambda r: r/r.sum() *100,\n",
    "                                              axis=1).plot(kind='bar')"
   ]
  },
  {
   "cell_type": "code",
   "execution_count": 15,
   "id": "caa5e488",
   "metadata": {},
   "outputs": [
    {
     "data": {
      "image/png": "[encoded data removed]",
      "text/plain": [
       "<Figure size 432x288 with 1 Axes>"
      ]
     },
     "metadata": {
      "needs_background": "light"
     },
     "output_type": "display_data"
    }
   ],
   "source": [
    "# Gráfico de barras de sobreviviviente segun clase\n",
    "plot = pd.crosstab(index=titanic['survived'],\n",
    "            columns=titanic['class']\n",
    "                  ).apply(lambda r: r/r.sum() *100,\n",
    "                          axis=0).plot(kind='bar', stacked=True)"
   ]
  },
  {
   "cell_type": "code",
   "execution_count": 16,
   "id": "4bbc318d",
   "metadata": {},
   "outputs": [
    {
     "data": {
      "text/plain": [
       "Power_divergenceResult(statistic=array([ 20.18769231,   8.4245614 , 173.51274788]), pvalue=array([7.02031714e-06, 3.70185931e-03, 1.26471311e-39]))"
      ]
     },
     "execution_count": 16,
     "metadata": {},
     "output_type": "execute_result"
    }
   ],
   "source": [
    "# Prueba de Chi-cuadrada\n",
    "from scipy.stats import chisquare\n",
    "tabla=pd.crosstab(index=titanic['survived'], columns=titanic['class'])\n",
    "chisquare(tabla)"
   ]
  },
  {
   "cell_type": "code",
   "execution_count": null,
   "id": "ed86fcf1",
   "metadata": {},
   "outputs": [],
   "source": []
  }
 ],
 "metadata": {
  "kernelspec": {
   "display_name": "Python 3",
   "language": "python",
   "name": "python3"
  },
  "language_info": {
   "codemirror_mode": {
    "name": "ipython",
    "version": 3
   },
   "file_extension": ".py",
   "mimetype": "text/x-python",
   "name": "python",
   "nbconvert_exporter": "python",
   "pygments_lexer": "ipython3",
   "version": "3.8.8"
  }
 },
 "nbformat": 4,
 "nbformat_minor": 5
}
