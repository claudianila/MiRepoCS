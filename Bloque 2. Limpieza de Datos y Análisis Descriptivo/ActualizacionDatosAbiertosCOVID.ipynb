{
 "cells": [
  {
   "cell_type": "markdown",
   "id": "01c904d1-46e1-4f12-acf1-26c8dbd9e05f",
   "metadata": {},
   "source": [
    "# Código para actualización de datos de COVID"
   ]
  },
  {
   "cell_type": "markdown",
   "id": "f23be014-9bbb-4bbb-9d3b-a07beeaddfb2",
   "metadata": {},
   "source": [
    "Extraidos de la red a partir de el archivo .zip y \n",
    "la descompresión del archivo Excel"
   ]
  },
  {
   "cell_type": "code",
   "execution_count": null,
   "id": "5926322f-5d8a-4579-a1ce-f633a1a36348",
   "metadata": {},
   "outputs": [],
   "source": []
  },
  {
   "cell_type": "code",
   "execution_count": 1,
   "id": "5301eed9-ac69-47fd-91a4-5b92779a7570",
   "metadata": {},
   "outputs": [],
   "source": [
    "#Dirección donde está el archivo .zip para descargar\n",
    "URL = 'http://datosabiertos.salud.gob.mx/gobmx/salud/datos_abiertos/datos_abiertos_covid19.zip'"
   ]
  },
  {
   "cell_type": "code",
   "execution_count": 2,
   "id": "b7c0944d-badb-4ceb-b9cf-ed539c8bb8fb",
   "metadata": {},
   "outputs": [],
   "source": [
    "import requests \n",
    "\n",
    "def download_url(URL, save_path, chunk_size=128):\n",
    "    r = requests.get(url, stream=True)\n",
    "    with open(save_path, 'wb') as fd:\n",
    "        for chunk in r.iter_content(chunk_size=chunk_size):\n",
    "            fd.write(chunk)"
   ]
  },
  {
   "cell_type": "code",
   "execution_count": null,
   "id": "5a6f2e1a-18d1-4464-863d-02fe02dc1520",
   "metadata": {},
   "outputs": [],
   "source": []
  },
  {
   "cell_type": "code",
   "execution_count": 3,
   "id": "a6d52740-90c8-4cba-8987-d58f835b7d5f",
   "metadata": {},
   "outputs": [],
   "source": [
    "import requests, zipfile, io\n",
    "r = requests.get(URL)\n",
    "z = zipfile.ZipFile(io.BytesIO(r.content))\n",
    "z.extractall()"
   ]
  },
  {
   "cell_type": "code",
   "execution_count": 4,
   "id": "90beaf49-5bf4-4787-b388-749c42028ee9",
   "metadata": {},
   "outputs": [
    {
     "data": {
      "text/plain": [
       "<zipfile.ZipFile file=<_io.BytesIO object at 0x000002670883F0E0> mode='r'>"
      ]
     },
     "execution_count": 4,
     "metadata": {},
     "output_type": "execute_result"
    }
   ],
   "source": [
    "z"
   ]
  },
  {
   "cell_type": "code",
   "execution_count": 5,
   "id": "49cc7344-5f40-4d47-ab97-cc8d75675d7c",
   "metadata": {},
   "outputs": [
    {
     "data": {
      "text/plain": [
       "['NameToInfo',\n",
       " '_RealGetContents',\n",
       " '__class__',\n",
       " '__del__',\n",
       " '__delattr__',\n",
       " '__dict__',\n",
       " '__dir__',\n",
       " '__doc__',\n",
       " '__enter__',\n",
       " '__eq__',\n",
       " '__exit__',\n",
       " '__format__',\n",
       " '__ge__',\n",
       " '__getattribute__',\n",
       " '__gt__',\n",
       " '__hash__',\n",
       " '__init__',\n",
       " '__init_subclass__',\n",
       " '__le__',\n",
       " '__lt__',\n",
       " '__module__',\n",
       " '__ne__',\n",
       " '__new__',\n",
       " '__reduce__',\n",
       " '__reduce_ex__',\n",
       " '__repr__',\n",
       " '__setattr__',\n",
       " '__sizeof__',\n",
       " '__str__',\n",
       " '__subclasshook__',\n",
       " '__weakref__',\n",
       " '_allowZip64',\n",
       " '_comment',\n",
       " '_didModify',\n",
       " '_extract_member',\n",
       " '_filePassed',\n",
       " '_fileRefCnt',\n",
       " '_fpclose',\n",
       " '_lock',\n",
       " '_open_to_write',\n",
       " '_sanitize_windows_name',\n",
       " '_seekable',\n",
       " '_strict_timestamps',\n",
       " '_windows_illegal_name_trans_table',\n",
       " '_write_end_record',\n",
       " '_writecheck',\n",
       " '_writing',\n",
       " 'close',\n",
       " 'comment',\n",
       " 'compression',\n",
       " 'compresslevel',\n",
       " 'debug',\n",
       " 'extract',\n",
       " 'extractall',\n",
       " 'filelist',\n",
       " 'filename',\n",
       " 'fp',\n",
       " 'getinfo',\n",
       " 'infolist',\n",
       " 'mode',\n",
       " 'namelist',\n",
       " 'open',\n",
       " 'printdir',\n",
       " 'pwd',\n",
       " 'read',\n",
       " 'setpassword',\n",
       " 'start_dir',\n",
       " 'testzip',\n",
       " 'write',\n",
       " 'writestr']"
      ]
     },
     "execution_count": 5,
     "metadata": {},
     "output_type": "execute_result"
    }
   ],
   "source": [
    "dir(z)"
   ]
  },
  {
   "cell_type": "code",
   "execution_count": 10,
   "id": "c2fdb264-8a70-410b-9086-19bab742482a",
   "metadata": {},
   "outputs": [
    {
     "data": {
      "text/plain": [
       "<Response [200]>"
      ]
     },
     "execution_count": 10,
     "metadata": {},
     "output_type": "execute_result"
    }
   ],
   "source": []
  }
 ],
 "metadata": {
  "kernelspec": {
   "display_name": "Python 3",
   "language": "python",
   "name": "python3"
  },
  "language_info": {
   "codemirror_mode": {
    "name": "ipython",
    "version": 3
   },
   "file_extension": ".py",
   "mimetype": "text/x-python",
   "name": "python",
   "nbconvert_exporter": "python",
   "pygments_lexer": "ipython3",
   "version": "3.8.8"
  }
 },
 "nbformat": 4,
 "nbformat_minor": 5
}
