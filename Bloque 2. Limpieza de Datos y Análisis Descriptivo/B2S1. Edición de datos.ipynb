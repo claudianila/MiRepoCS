{
 "cells": [
  {
   "cell_type": "markdown",
   "id": "8bee2df1",
   "metadata": {},
   "source": [
    "# B2S1. Edición de datos"
   ]
  },
  {
   "cell_type": "markdown",
   "id": "47da0b3f",
   "metadata": {},
   "source": [
    "## T1. Pasar de float a entero\n",
    "\n",
    "* Primero generaremos un dato float \n",
    "* Luego usaremos el método para pasarlo a entero\n",
    "* También veremos qué pasa cuando pasamos un dato que no es float y tratamos de aplicarle el método int"
   ]
  },
  {
   "cell_type": "code",
   "execution_count": 1,
   "id": "92c3f606",
   "metadata": {},
   "outputs": [],
   "source": [
    "dato = 2.6"
   ]
  },
  {
   "cell_type": "code",
   "execution_count": 2,
   "id": "90f00228",
   "metadata": {},
   "outputs": [
    {
     "data": {
      "text/plain": [
       "2.6"
      ]
     },
     "execution_count": 2,
     "metadata": {},
     "output_type": "execute_result"
    }
   ],
   "source": [
    "dato"
   ]
  },
  {
   "cell_type": "code",
   "execution_count": 4,
   "id": "919d9c69",
   "metadata": {},
   "outputs": [
    {
     "data": {
      "text/plain": [
       "float"
      ]
     },
     "execution_count": 4,
     "metadata": {},
     "output_type": "execute_result"
    }
   ],
   "source": [
    "type(dato)  #tratamos de obtener su tipo, recuerde que no se usa dtype, porque es para dataframes"
   ]
  },
  {
   "cell_type": "code",
   "execution_count": 5,
   "id": "fb829ee2",
   "metadata": {},
   "outputs": [
    {
     "data": {
      "text/plain": [
       "['__abs__',\n",
       " '__add__',\n",
       " '__bool__',\n",
       " '__class__',\n",
       " '__delattr__',\n",
       " '__dir__',\n",
       " '__divmod__',\n",
       " '__doc__',\n",
       " '__eq__',\n",
       " '__float__',\n",
       " '__floordiv__',\n",
       " '__format__',\n",
       " '__ge__',\n",
       " '__getattribute__',\n",
       " '__getformat__',\n",
       " '__getnewargs__',\n",
       " '__gt__',\n",
       " '__hash__',\n",
       " '__init__',\n",
       " '__init_subclass__',\n",
       " '__int__',\n",
       " '__le__',\n",
       " '__lt__',\n",
       " '__mod__',\n",
       " '__mul__',\n",
       " '__ne__',\n",
       " '__neg__',\n",
       " '__new__',\n",
       " '__pos__',\n",
       " '__pow__',\n",
       " '__radd__',\n",
       " '__rdivmod__',\n",
       " '__reduce__',\n",
       " '__reduce_ex__',\n",
       " '__repr__',\n",
       " '__rfloordiv__',\n",
       " '__rmod__',\n",
       " '__rmul__',\n",
       " '__round__',\n",
       " '__rpow__',\n",
       " '__rsub__',\n",
       " '__rtruediv__',\n",
       " '__set_format__',\n",
       " '__setattr__',\n",
       " '__sizeof__',\n",
       " '__str__',\n",
       " '__sub__',\n",
       " '__subclasshook__',\n",
       " '__truediv__',\n",
       " '__trunc__',\n",
       " 'as_integer_ratio',\n",
       " 'conjugate',\n",
       " 'fromhex',\n",
       " 'hex',\n",
       " 'imag',\n",
       " 'is_integer',\n",
       " 'real']"
      ]
     },
     "execution_count": 5,
     "metadata": {},
     "output_type": "execute_result"
    }
   ],
   "source": [
    "import numpy as np\n",
    "dir(dato)  #para ver los atributos de este objeto"
   ]
  },
  {
   "cell_type": "code",
   "execution_count": 6,
   "id": "7188421d",
   "metadata": {},
   "outputs": [
    {
     "data": {
      "text/plain": [
       "False"
      ]
     },
     "execution_count": 6,
     "metadata": {},
     "output_type": "execute_result"
    }
   ],
   "source": [
    "dato.is_integer()  #Indica que 'dato' no es entero"
   ]
  },
  {
   "cell_type": "code",
   "execution_count": 28,
   "id": "ce155620",
   "metadata": {},
   "outputs": [
    {
     "data": {
      "text/plain": [
       "2"
      ]
     },
     "execution_count": 28,
     "metadata": {},
     "output_type": "execute_result"
    }
   ],
   "source": [
    "#La función int en Python corta el decimal y los números restantes de un flotante para crear un entero.\n",
    "int(dato)"
   ]
  },
  {
   "cell_type": "code",
   "execution_count": 7,
   "id": "7c5ec373",
   "metadata": {},
   "outputs": [
    {
     "ename": "AttributeError",
     "evalue": "'int' object has no attribute 'is_integer'",
     "output_type": "error",
     "traceback": [
      "\u001b[1;31m---------------------------------------------------------------------------\u001b[0m",
      "\u001b[1;31mAttributeError\u001b[0m                            Traceback (most recent call last)",
      "\u001b[1;32m<ipython-input-7-68551d641327>\u001b[0m in \u001b[0;36m<module>\u001b[1;34m\u001b[0m\n\u001b[0;32m      1\u001b[0m \u001b[0mdato2\u001b[0m\u001b[1;33m=\u001b[0m\u001b[0mint\u001b[0m\u001b[1;33m(\u001b[0m\u001b[0mdato\u001b[0m\u001b[1;33m)\u001b[0m\u001b[1;33m\u001b[0m\u001b[1;33m\u001b[0m\u001b[0m\n\u001b[1;32m----> 2\u001b[1;33m \u001b[0mdato2\u001b[0m\u001b[1;33m.\u001b[0m\u001b[0mis_integer\u001b[0m\u001b[1;33m(\u001b[0m\u001b[1;33m)\u001b[0m  \u001b[1;31m#Nos marca error, pero ya nos dice que es 'int'\u001b[0m\u001b[1;33m\u001b[0m\u001b[1;33m\u001b[0m\u001b[0m\n\u001b[0m",
      "\u001b[1;31mAttributeError\u001b[0m: 'int' object has no attribute 'is_integer'"
     ]
    }
   ],
   "source": [
    "dato2=int(dato)\n",
    "dato2.is_integer()  #Nos marca error, pero ya nos dice que es 'int'"
   ]
  },
  {
   "cell_type": "code",
   "execution_count": 32,
   "id": "d12a8ae7",
   "metadata": {},
   "outputs": [
    {
     "data": {
      "text/plain": [
       "['__abs__',\n",
       " '__add__',\n",
       " '__and__',\n",
       " '__bool__',\n",
       " '__ceil__',\n",
       " '__class__',\n",
       " '__delattr__',\n",
       " '__dir__',\n",
       " '__divmod__',\n",
       " '__doc__',\n",
       " '__eq__',\n",
       " '__float__',\n",
       " '__floor__',\n",
       " '__floordiv__',\n",
       " '__format__',\n",
       " '__ge__',\n",
       " '__getattribute__',\n",
       " '__getnewargs__',\n",
       " '__gt__',\n",
       " '__hash__',\n",
       " '__index__',\n",
       " '__init__',\n",
       " '__init_subclass__',\n",
       " '__int__',\n",
       " '__invert__',\n",
       " '__le__',\n",
       " '__lshift__',\n",
       " '__lt__',\n",
       " '__mod__',\n",
       " '__mul__',\n",
       " '__ne__',\n",
       " '__neg__',\n",
       " '__new__',\n",
       " '__or__',\n",
       " '__pos__',\n",
       " '__pow__',\n",
       " '__radd__',\n",
       " '__rand__',\n",
       " '__rdivmod__',\n",
       " '__reduce__',\n",
       " '__reduce_ex__',\n",
       " '__repr__',\n",
       " '__rfloordiv__',\n",
       " '__rlshift__',\n",
       " '__rmod__',\n",
       " '__rmul__',\n",
       " '__ror__',\n",
       " '__round__',\n",
       " '__rpow__',\n",
       " '__rrshift__',\n",
       " '__rshift__',\n",
       " '__rsub__',\n",
       " '__rtruediv__',\n",
       " '__rxor__',\n",
       " '__setattr__',\n",
       " '__sizeof__',\n",
       " '__str__',\n",
       " '__sub__',\n",
       " '__subclasshook__',\n",
       " '__truediv__',\n",
       " '__trunc__',\n",
       " '__xor__',\n",
       " 'as_integer_ratio',\n",
       " 'bit_length',\n",
       " 'conjugate',\n",
       " 'denominator',\n",
       " 'from_bytes',\n",
       " 'imag',\n",
       " 'numerator',\n",
       " 'real',\n",
       " 'to_bytes']"
      ]
     },
     "execution_count": 32,
     "metadata": {},
     "output_type": "execute_result"
    }
   ],
   "source": [
    "dir(dato2)  #En efecto, no tiene el atributo is_integer"
   ]
  },
  {
   "cell_type": "markdown",
   "id": "4006d0e9",
   "metadata": {},
   "source": [
    "Ahora, constuiremos una variable de cadena y tratremos de pasarla a numérico"
   ]
  },
  {
   "cell_type": "code",
   "execution_count": 8,
   "id": "55bd0ccf",
   "metadata": {},
   "outputs": [],
   "source": [
    "dato3 = 'Claudia'"
   ]
  },
  {
   "cell_type": "code",
   "execution_count": 9,
   "id": "b8b5bf7c",
   "metadata": {},
   "outputs": [
    {
     "data": {
      "text/plain": [
       "'Claudia'"
      ]
     },
     "execution_count": 9,
     "metadata": {},
     "output_type": "execute_result"
    }
   ],
   "source": [
    "dato3"
   ]
  },
  {
   "cell_type": "code",
   "execution_count": 10,
   "id": "6913e2d5",
   "metadata": {},
   "outputs": [
    {
     "ename": "ValueError",
     "evalue": "invalid literal for int() with base 10: 'Claudia'",
     "output_type": "error",
     "traceback": [
      "\u001b[1;31m---------------------------------------------------------------------------\u001b[0m",
      "\u001b[1;31mValueError\u001b[0m                                Traceback (most recent call last)",
      "\u001b[1;32m<ipython-input-10-92c160bdc8b2>\u001b[0m in \u001b[0;36m<module>\u001b[1;34m\u001b[0m\n\u001b[1;32m----> 1\u001b[1;33m \u001b[0mint\u001b[0m\u001b[1;33m(\u001b[0m\u001b[0mdato3\u001b[0m\u001b[1;33m)\u001b[0m\u001b[1;33m\u001b[0m\u001b[1;33m\u001b[0m\u001b[0m\n\u001b[0m",
      "\u001b[1;31mValueError\u001b[0m: invalid literal for int() with base 10: 'Claudia'"
     ]
    }
   ],
   "source": [
    "int(dato3)"
   ]
  },
  {
   "cell_type": "code",
   "execution_count": 11,
   "id": "1f4b6725",
   "metadata": {},
   "outputs": [
    {
     "ename": "SyntaxError",
     "evalue": "invalid syntax (<ipython-input-11-a88a6620a3ad>, line 1)",
     "output_type": "error",
     "traceback": [
      "\u001b[1;36m  File \u001b[1;32m\"<ipython-input-11-a88a6620a3ad>\"\u001b[1;36m, line \u001b[1;32m1\u001b[0m\n\u001b[1;33m    Ahora, definimos un dato de cadena pero que sí es un número\u001b[0m\n\u001b[1;37m                     ^\u001b[0m\n\u001b[1;31mSyntaxError\u001b[0m\u001b[1;31m:\u001b[0m invalid syntax\n"
     ]
    }
   ],
   "source": [
    "Ahora, definimos un dato de cadena pero que sí es un número"
   ]
  },
  {
   "cell_type": "code",
   "execution_count": 13,
   "id": "d17fedd5",
   "metadata": {},
   "outputs": [],
   "source": [
    "dato4 = '4'"
   ]
  },
  {
   "cell_type": "code",
   "execution_count": 14,
   "id": "3e908e21",
   "metadata": {},
   "outputs": [
    {
     "data": {
      "text/plain": [
       "'4'"
      ]
     },
     "execution_count": 14,
     "metadata": {},
     "output_type": "execute_result"
    }
   ],
   "source": [
    "dato4"
   ]
  },
  {
   "cell_type": "code",
   "execution_count": 15,
   "id": "4528631c",
   "metadata": {},
   "outputs": [
    {
     "data": {
      "text/plain": [
       "4.0"
      ]
     },
     "execution_count": 15,
     "metadata": {},
     "output_type": "execute_result"
    }
   ],
   "source": [
    "float(dato4)"
   ]
  },
  {
   "cell_type": "markdown",
   "id": "8b405b28",
   "metadata": {},
   "source": [
    "## T2. Pasar de cadena a numérico\n",
    "\n",
    "* Primero generaremos un dato de cadena\n",
    "* Luego usaremos el método para pasarlo de cadena a numérico\n",
    "* También veremos qué pasa cuando pasamos un dato que no es cadena y tratamos de aplicarle el método "
   ]
  },
  {
   "cell_type": "markdown",
   "id": "6425931e",
   "metadata": {},
   "source": [
    "Usaremos el 'dato4' que se generó en la sección anterior.\n",
    "\n",
    "Primero veamos qué pasa con una cadena cuando aplicamos operaciones aritméticas\n",
    "\n",
    "Tome en cuenta que es una cadena de texto, aunque la veamos como un número"
   ]
  },
  {
   "cell_type": "code",
   "execution_count": 16,
   "id": "9682169d",
   "metadata": {},
   "outputs": [
    {
     "data": {
      "text/plain": [
       "'44'"
      ]
     },
     "execution_count": 16,
     "metadata": {},
     "output_type": "execute_result"
    }
   ],
   "source": [
    "dato4 + dato4"
   ]
  },
  {
   "cell_type": "code",
   "execution_count": 17,
   "id": "be6eff13",
   "metadata": {},
   "outputs": [
    {
     "data": {
      "text/plain": [
       "'44'"
      ]
     },
     "execution_count": 17,
     "metadata": {},
     "output_type": "execute_result"
    }
   ],
   "source": [
    "2*dato4"
   ]
  },
  {
   "cell_type": "code",
   "execution_count": 18,
   "id": "ac133c25",
   "metadata": {},
   "outputs": [
    {
     "data": {
      "text/plain": [
       "'444'"
      ]
     },
     "execution_count": 18,
     "metadata": {},
     "output_type": "execute_result"
    }
   ],
   "source": [
    "dato4*3"
   ]
  },
  {
   "cell_type": "markdown",
   "id": "9ee686ee",
   "metadata": {},
   "source": [
    "Ahora, aplicamos el método int o float para transformar el dato ya sea en entero o flotante, respectivamente."
   ]
  },
  {
   "cell_type": "code",
   "execution_count": 19,
   "id": "2e9d5d39",
   "metadata": {},
   "outputs": [
    {
     "data": {
      "text/plain": [
       "4.0"
      ]
     },
     "execution_count": 19,
     "metadata": {},
     "output_type": "execute_result"
    }
   ],
   "source": [
    "float(dato4)"
   ]
  },
  {
   "cell_type": "code",
   "execution_count": 20,
   "id": "b5d1ddf2",
   "metadata": {},
   "outputs": [
    {
     "data": {
      "text/plain": [
       "8"
      ]
     },
     "execution_count": 20,
     "metadata": {},
     "output_type": "execute_result"
    }
   ],
   "source": [
    "2*int(dato4)"
   ]
  },
  {
   "cell_type": "code",
   "execution_count": 21,
   "id": "7c87182e",
   "metadata": {},
   "outputs": [
    {
     "ename": "TypeError",
     "evalue": "unsupported operand type(s) for -: 'str' and 'str'",
     "output_type": "error",
     "traceback": [
      "\u001b[1;31m---------------------------------------------------------------------------\u001b[0m",
      "\u001b[1;31mTypeError\u001b[0m                                 Traceback (most recent call last)",
      "\u001b[1;32m<ipython-input-21-f834f833784c>\u001b[0m in \u001b[0;36m<module>\u001b[1;34m\u001b[0m\n\u001b[0;32m      1\u001b[0m \u001b[1;31m#Note lo que ocurre con\u001b[0m\u001b[1;33m\u001b[0m\u001b[1;33m\u001b[0m\u001b[1;33m\u001b[0m\u001b[0m\n\u001b[1;32m----> 2\u001b[1;33m \u001b[0mdato4\u001b[0m \u001b[1;33m-\u001b[0m \u001b[0mdato4\u001b[0m\u001b[1;33m\u001b[0m\u001b[1;33m\u001b[0m\u001b[0m\n\u001b[0m",
      "\u001b[1;31mTypeError\u001b[0m: unsupported operand type(s) for -: 'str' and 'str'"
     ]
    }
   ],
   "source": [
    "#Note lo que ocurre con\n",
    "dato4 - dato4"
   ]
  },
  {
   "cell_type": "code",
   "execution_count": 22,
   "id": "5b439b62",
   "metadata": {},
   "outputs": [
    {
     "data": {
      "text/plain": [
       "0"
      ]
     },
     "execution_count": 22,
     "metadata": {},
     "output_type": "execute_result"
    }
   ],
   "source": [
    "int(dato4)-int(dato4)"
   ]
  },
  {
   "cell_type": "code",
   "execution_count": 23,
   "id": "42cb709c",
   "metadata": {},
   "outputs": [],
   "source": [
    "#Ahora, tratemos de aplicar el método a dato3 que es una cadena de texto "
   ]
  },
  {
   "cell_type": "code",
   "execution_count": 24,
   "id": "aedcf0ec",
   "metadata": {},
   "outputs": [
    {
     "data": {
      "text/plain": [
       "'Claudia'"
      ]
     },
     "execution_count": 24,
     "metadata": {},
     "output_type": "execute_result"
    }
   ],
   "source": [
    "dato3"
   ]
  },
  {
   "cell_type": "code",
   "execution_count": 25,
   "id": "955e59ba",
   "metadata": {},
   "outputs": [
    {
     "ename": "ValueError",
     "evalue": "invalid literal for int() with base 10: 'Claudia'",
     "output_type": "error",
     "traceback": [
      "\u001b[1;31m---------------------------------------------------------------------------\u001b[0m",
      "\u001b[1;31mValueError\u001b[0m                                Traceback (most recent call last)",
      "\u001b[1;32m<ipython-input-25-92c160bdc8b2>\u001b[0m in \u001b[0;36m<module>\u001b[1;34m\u001b[0m\n\u001b[1;32m----> 1\u001b[1;33m \u001b[0mint\u001b[0m\u001b[1;33m(\u001b[0m\u001b[0mdato3\u001b[0m\u001b[1;33m)\u001b[0m\u001b[1;33m\u001b[0m\u001b[1;33m\u001b[0m\u001b[0m\n\u001b[0m",
      "\u001b[1;31mValueError\u001b[0m: invalid literal for int() with base 10: 'Claudia'"
     ]
    }
   ],
   "source": [
    "int(dato3)"
   ]
  },
  {
   "cell_type": "code",
   "execution_count": 26,
   "id": "b59f030a",
   "metadata": {},
   "outputs": [
    {
     "ename": "ValueError",
     "evalue": "could not convert string to float: 'Claudia'",
     "output_type": "error",
     "traceback": [
      "\u001b[1;31m---------------------------------------------------------------------------\u001b[0m",
      "\u001b[1;31mValueError\u001b[0m                                Traceback (most recent call last)",
      "\u001b[1;32m<ipython-input-26-5e703b73cdb6>\u001b[0m in \u001b[0;36m<module>\u001b[1;34m\u001b[0m\n\u001b[1;32m----> 1\u001b[1;33m \u001b[0mfloat\u001b[0m\u001b[1;33m(\u001b[0m\u001b[0mdato3\u001b[0m\u001b[1;33m)\u001b[0m\u001b[1;33m\u001b[0m\u001b[1;33m\u001b[0m\u001b[0m\n\u001b[0m",
      "\u001b[1;31mValueError\u001b[0m: could not convert string to float: 'Claudia'"
     ]
    }
   ],
   "source": [
    "float(dato3)"
   ]
  },
  {
   "cell_type": "markdown",
   "id": "2be7c9cd",
   "metadata": {},
   "source": [
    "## T3. Pasar de cadena a fecha"
   ]
  },
  {
   "cell_type": "code",
   "execution_count": 27,
   "id": "4eb8a46d",
   "metadata": {},
   "outputs": [],
   "source": [
    "#Generalmente las fechas tienen un formato específico, el más común es el siguiente:\n",
    "dato5='2021/07/21'"
   ]
  },
  {
   "cell_type": "code",
   "execution_count": 28,
   "id": "efcf6695",
   "metadata": {},
   "outputs": [
    {
     "data": {
      "text/plain": [
       "'2021/07/21'"
      ]
     },
     "execution_count": 28,
     "metadata": {},
     "output_type": "execute_result"
    }
   ],
   "source": [
    "dato5"
   ]
  },
  {
   "cell_type": "code",
   "execution_count": 29,
   "id": "671c563d",
   "metadata": {},
   "outputs": [
    {
     "name": "stdout",
     "output_type": "stream",
     "text": [
      "2019-04-20 00:00:00\n"
     ]
    }
   ],
   "source": [
    "from datetime import datetime\n",
    "# Convertimos un string con formato <día>/<mes>/<año> en datetime\n",
    "una_fecha = '20/04/2019'\n",
    "fecha_dt = datetime.strptime(una_fecha, '%d/%m/%Y')\n",
    "print(fecha_dt)\n",
    "\n"
   ]
  },
  {
   "cell_type": "code",
   "execution_count": 30,
   "id": "861ad9a7",
   "metadata": {},
   "outputs": [
    {
     "name": "stdout",
     "output_type": "stream",
     "text": [
      "2021-07-21 00:00:00\n"
     ]
    }
   ],
   "source": [
    "from datetime import datetime\n",
    "# Convertimos un string con formato <día>/<mes>/<año> en datetime\n",
    "dato5='2021/07/21'\n",
    "fecha_dt = datetime.strptime(dato5, '%Y/%m/%d')\n",
    "print(fecha_dt)"
   ]
  },
  {
   "cell_type": "code",
   "execution_count": 31,
   "id": "24863ebc",
   "metadata": {},
   "outputs": [
    {
     "name": "stdout",
     "output_type": "stream",
     "text": [
      "2021-07-21 00:00:00\n"
     ]
    }
   ],
   "source": [
    "from datetime import datetime\n",
    "# Convertimos un string con formato <día>/<mes>/<año> en datetime\n",
    "dato5='2021-07-21'\n",
    "fecha_dt = datetime.strptime(dato5, '%Y-%m-%d')\n",
    "print(fecha_dt)"
   ]
  },
  {
   "cell_type": "markdown",
   "id": "9e5ac209",
   "metadata": {},
   "source": [
    "## T4. Extraer información de un dato de cadena "
   ]
  },
  {
   "cell_type": "code",
   "execution_count": null,
   "id": "04ba69b2",
   "metadata": {},
   "outputs": [],
   "source": [
    "#La función strip quita elementos al inicio y al final, pueden ser caracteres, espacios\n",
    "#por ejemplo, no se quitó la e porque está en medio y no al inicio o al final"
   ]
  },
  {
   "cell_type": "code",
   "execution_count": 5,
   "id": "4d28ab61",
   "metadata": {},
   "outputs": [],
   "source": [
    "dato3='Claudia'"
   ]
  },
  {
   "cell_type": "code",
   "execution_count": 33,
   "id": "76364cba",
   "metadata": {},
   "outputs": [
    {
     "name": "stdout",
     "output_type": "stream",
     "text": [
      "xoxo love xoxo\n",
      "lov\n",
      "  xoxo love xoxo   \n",
      "droid is awesome\n"
     ]
    }
   ],
   "source": [
    "string = '  xoxo love xoxo   '\n",
    "\n",
    "# Leading and trailing whitespaces are removed\n",
    "print(string.strip())\n",
    "\n",
    "# All <whitespace>,x,o,e characters in the left\n",
    "# and right of string are removed\n",
    "print(string.strip(' xoe'))\n",
    "\n",
    "# Argument doesn't contain space\n",
    "# No characters are removed.\n",
    "print(string.strip('stx'))\n",
    "\n",
    "string = 'android is awesome'\n",
    "print(string.strip('an'))"
   ]
  },
  {
   "cell_type": "code",
   "execution_count": 6,
   "id": "353f1e1b",
   "metadata": {},
   "outputs": [
    {
     "name": "stdout",
     "output_type": "stream",
     "text": [
      "Clau\n"
     ]
    }
   ],
   "source": [
    "print(dato3.strip('dia'))"
   ]
  },
  {
   "cell_type": "code",
   "execution_count": 7,
   "id": "b85efbc9",
   "metadata": {},
   "outputs": [
    {
     "name": "stdout",
     "output_type": "stream",
     "text": [
      "Help on built-in function strip:\n",
      "\n",
      "strip(chars=None, /) method of builtins.str instance\n",
      "    Return a copy of the string with leading and trailing whitespace removed.\n",
      "    \n",
      "    If chars is given and not None, remove characters in chars instead.\n",
      "\n"
     ]
    }
   ],
   "source": [
    "help(dato3.strip)"
   ]
  },
  {
   "cell_type": "markdown",
   "id": "04a9dba2",
   "metadata": {},
   "source": [
    "## T5. Contrastes que regresan datos booleanos"
   ]
  },
  {
   "cell_type": "code",
   "execution_count": 35,
   "id": "f4d3a9f3",
   "metadata": {},
   "outputs": [
    {
     "data": {
      "text/plain": [
       "True"
      ]
     },
     "execution_count": 35,
     "metadata": {},
     "output_type": "execute_result"
    }
   ],
   "source": [
    "dato4 == '4'"
   ]
  },
  {
   "cell_type": "code",
   "execution_count": 36,
   "id": "e0426aa4",
   "metadata": {},
   "outputs": [
    {
     "data": {
      "text/plain": [
       "False"
      ]
     },
     "execution_count": 36,
     "metadata": {},
     "output_type": "execute_result"
    }
   ],
   "source": [
    "dato4 == 4"
   ]
  },
  {
   "cell_type": "code",
   "execution_count": 37,
   "id": "0bcbe9ec",
   "metadata": {},
   "outputs": [
    {
     "data": {
      "text/plain": [
       "True"
      ]
     },
     "execution_count": 37,
     "metadata": {},
     "output_type": "execute_result"
    }
   ],
   "source": [
    "2*dato4 == '44'"
   ]
  },
  {
   "cell_type": "code",
   "execution_count": 38,
   "id": "14326f77",
   "metadata": {},
   "outputs": [
    {
     "data": {
      "text/plain": [
       "False"
      ]
     },
     "execution_count": 38,
     "metadata": {},
     "output_type": "execute_result"
    }
   ],
   "source": [
    "dato4 != '4'"
   ]
  },
  {
   "cell_type": "code",
   "execution_count": null,
   "id": "316ba53f",
   "metadata": {},
   "outputs": [],
   "source": []
  }
 ],
 "metadata": {
  "kernelspec": {
   "display_name": "Python 3",
   "language": "python",
   "name": "python3"
  },
  "language_info": {
   "codemirror_mode": {
    "name": "ipython",
    "version": 3
   },
   "file_extension": ".py",
   "mimetype": "text/x-python",
   "name": "python",
   "nbconvert_exporter": "python",
   "pygments_lexer": "ipython3",
   "version": "3.8.8"
  }
 },
 "nbformat": 4,
 "nbformat_minor": 5
}
