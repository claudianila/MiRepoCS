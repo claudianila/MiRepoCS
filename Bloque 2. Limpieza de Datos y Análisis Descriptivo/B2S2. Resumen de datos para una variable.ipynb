{
 "cells": [
  {
   "cell_type": "markdown",
   "id": "59e24a68",
   "metadata": {},
   "source": [
    "# B2S2. Resumen de datos para una variable\n",
    "\n",
    "* Resumen numérico (media, min, max, etc) para variables numéricas\n",
    "* Resumen de conteos para variables categóricas (tablas)"
   ]
  },
  {
   "cell_type": "code",
   "execution_count": 7,
   "id": "fcd74953",
   "metadata": {},
   "outputs": [],
   "source": [
    "import pandas as pd"
   ]
  },
  {
   "cell_type": "code",
   "execution_count": 8,
   "id": "ed4d61db",
   "metadata": {},
   "outputs": [
    {
     "name": "stdout",
     "output_type": "stream",
     "text": [
      "(198, 8)\n",
      "    Entidad Federativa Nivel educativo  Alumnos/Maestros_2010/2011  \\\n",
      "188            Yucatán        Primaria                          27   \n",
      "189            Yucatán      Secundaria                          11   \n",
      "190            Yucatán  Media superior                          15   \n",
      "191            Yucatán        Superior                           9   \n",
      "192          Zacatecas           Total                          18   \n",
      "193          Zacatecas      Preescolar                          20   \n",
      "194          Zacatecas        Primaria                          23   \n",
      "195          Zacatecas      Secundaria                          14   \n",
      "196          Zacatecas  Media superior                          17   \n",
      "197          Zacatecas        Superior                           8   \n",
      "\n",
      "     Alumnos/Escuelas_2010/2011  Alumnos/Maestros_2015/2016  \\\n",
      "188                         179                          25   \n",
      "189                         165                          13   \n",
      "190                         298                          13   \n",
      "191                         357                          10   \n",
      "192                          86                          18   \n",
      "193                          40                          20   \n",
      "194                         101                          24   \n",
      "195                          72                          16   \n",
      "196                         286                          14   \n",
      "197                         342                          10   \n",
      "\n",
      "     Alumnos/Escuelas_2015/2016  Alumnos/Maestros_2019/2020  \\\n",
      "188                         165                          24   \n",
      "189                         181                          12   \n",
      "190                         195                          14   \n",
      "191                         528                          10   \n",
      "192                          94                          18   \n",
      "193                          44                          20   \n",
      "194                         105                          23   \n",
      "195                          83                          15   \n",
      "196                         223                          13   \n",
      "197                         650                          13   \n",
      "\n",
      "     Alumnos/Escuelas_2019/2020  \n",
      "188                         165  \n",
      "189                         163  \n",
      "190                         210  \n",
      "191                         583  \n",
      "192                          94  \n",
      "193                          43  \n",
      "194                         111  \n",
      "195                          76  \n",
      "196                         215  \n",
      "197                         651  \n"
     ]
    }
   ],
   "source": [
    "#Usaremos una tabla de datos\n",
    "#Este es un archivo que contiene la proporción de Alumnos-Maestros y Alumnos-Escuelas para diversos niveles educativos y Enticades\n",
    "#Federativas\n",
    "filename = 'C:/Users/jgeis/Documents/Claudia/Cursos/Impartidos/PythonParaCS/Bloque 1 Instalacion y tipos de variables/S4/Educacion_08.xlsx'\n",
    "data = pd.read_excel(filename,header=0,skiprows=4,nrows=198)\n",
    "#Renombramos las columnas\n",
    "data.columns = ['Entidad Federativa','Nivel educativo','Alumnos/Maestros_2010/2011','Alumnos/Escuelas_2010/2011','Alumnos/Maestros_2015/2016','Alumnos/Escuelas_2015/2016','Alumnos/Maestros_2019/2020','Alumnos/Escuelas_2019/2020']\n",
    "\n",
    "print(data.shape)\n",
    "print (data.tail(10))"
   ]
  },
  {
   "cell_type": "code",
   "execution_count": 9,
   "id": "d908eec5",
   "metadata": {},
   "outputs": [
    {
     "data": {
      "text/plain": [
       "count    198.000000\n",
       "mean      17.772727\n",
       "std        5.547567\n",
       "min        7.000000\n",
       "25%       14.000000\n",
       "50%       18.000000\n",
       "75%       21.000000\n",
       "max       31.000000\n",
       "Name: Alumnos/Maestros_2010/2011, dtype: float64"
      ]
     },
     "execution_count": 9,
     "metadata": {},
     "output_type": "execute_result"
    }
   ],
   "source": [
    "#Creación de un resumen de la variable 'Alumnos/Maestros_2010/2011' (variable cuantitativa)\n",
    "data['Alumnos/Maestros_2010/2011'].describe()"
   ]
  },
  {
   "cell_type": "code",
   "execution_count": 10,
   "id": "4361ace0-042d-4d35-a55a-453fdff11ae5",
   "metadata": {},
   "outputs": [
    {
     "data": {
      "text/html": [
       "<div>\n",
       "<style scoped>\n",
       "    .dataframe tbody tr th:only-of-type {\n",
       "        vertical-align: middle;\n",
       "    }\n",
       "\n",
       "    .dataframe tbody tr th {\n",
       "        vertical-align: top;\n",
       "    }\n",
       "\n",
       "    .dataframe thead th {\n",
       "        text-align: right;\n",
       "    }\n",
       "</style>\n",
       "<table border=\"1\" class=\"dataframe\">\n",
       "  <thead>\n",
       "    <tr style=\"text-align: right;\">\n",
       "      <th></th>\n",
       "      <th>Alumnos/Maestros_2010/2011</th>\n",
       "      <th>Alumnos/Escuelas_2010/2011</th>\n",
       "      <th>Alumnos/Maestros_2015/2016</th>\n",
       "      <th>Alumnos/Escuelas_2015/2016</th>\n",
       "      <th>Alumnos/Maestros_2019/2020</th>\n",
       "      <th>Alumnos/Escuelas_2019/2020</th>\n",
       "    </tr>\n",
       "  </thead>\n",
       "  <tbody>\n",
       "    <tr>\n",
       "      <th>count</th>\n",
       "      <td>198.000000</td>\n",
       "      <td>198.000000</td>\n",
       "      <td>198.000000</td>\n",
       "      <td>198.000000</td>\n",
       "      <td>198.000000</td>\n",
       "      <td>198.000000</td>\n",
       "    </tr>\n",
       "    <tr>\n",
       "      <th>mean</th>\n",
       "      <td>17.772727</td>\n",
       "      <td>212.479798</td>\n",
       "      <td>16.833333</td>\n",
       "      <td>242.196970</td>\n",
       "      <td>16.696970</td>\n",
       "      <td>242.116162</td>\n",
       "    </tr>\n",
       "    <tr>\n",
       "      <th>std</th>\n",
       "      <td>5.547567</td>\n",
       "      <td>145.752927</td>\n",
       "      <td>5.626036</td>\n",
       "      <td>217.170701</td>\n",
       "      <td>5.206311</td>\n",
       "      <td>221.546621</td>\n",
       "    </tr>\n",
       "    <tr>\n",
       "      <th>min</th>\n",
       "      <td>7.000000</td>\n",
       "      <td>32.000000</td>\n",
       "      <td>7.000000</td>\n",
       "      <td>36.000000</td>\n",
       "      <td>7.000000</td>\n",
       "      <td>34.000000</td>\n",
       "    </tr>\n",
       "    <tr>\n",
       "      <th>25%</th>\n",
       "      <td>14.000000</td>\n",
       "      <td>102.000000</td>\n",
       "      <td>12.000000</td>\n",
       "      <td>102.500000</td>\n",
       "      <td>12.250000</td>\n",
       "      <td>100.000000</td>\n",
       "    </tr>\n",
       "    <tr>\n",
       "      <th>50%</th>\n",
       "      <td>18.000000</td>\n",
       "      <td>174.500000</td>\n",
       "      <td>16.000000</td>\n",
       "      <td>172.500000</td>\n",
       "      <td>16.000000</td>\n",
       "      <td>169.000000</td>\n",
       "    </tr>\n",
       "    <tr>\n",
       "      <th>75%</th>\n",
       "      <td>21.000000</td>\n",
       "      <td>287.750000</td>\n",
       "      <td>21.000000</td>\n",
       "      <td>251.000000</td>\n",
       "      <td>20.000000</td>\n",
       "      <td>252.250000</td>\n",
       "    </tr>\n",
       "    <tr>\n",
       "      <th>max</th>\n",
       "      <td>31.000000</td>\n",
       "      <td>739.000000</td>\n",
       "      <td>31.000000</td>\n",
       "      <td>1152.000000</td>\n",
       "      <td>32.000000</td>\n",
       "      <td>1082.000000</td>\n",
       "    </tr>\n",
       "  </tbody>\n",
       "</table>\n",
       "</div>"
      ],
      "text/plain": [
       "       Alumnos/Maestros_2010/2011  Alumnos/Escuelas_2010/2011  \\\n",
       "count                  198.000000                  198.000000   \n",
       "mean                    17.772727                  212.479798   \n",
       "std                      5.547567                  145.752927   \n",
       "min                      7.000000                   32.000000   \n",
       "25%                     14.000000                  102.000000   \n",
       "50%                     18.000000                  174.500000   \n",
       "75%                     21.000000                  287.750000   \n",
       "max                     31.000000                  739.000000   \n",
       "\n",
       "       Alumnos/Maestros_2015/2016  Alumnos/Escuelas_2015/2016  \\\n",
       "count                  198.000000                  198.000000   \n",
       "mean                    16.833333                  242.196970   \n",
       "std                      5.626036                  217.170701   \n",
       "min                      7.000000                   36.000000   \n",
       "25%                     12.000000                  102.500000   \n",
       "50%                     16.000000                  172.500000   \n",
       "75%                     21.000000                  251.000000   \n",
       "max                     31.000000                 1152.000000   \n",
       "\n",
       "       Alumnos/Maestros_2019/2020  Alumnos/Escuelas_2019/2020  \n",
       "count                  198.000000                  198.000000  \n",
       "mean                    16.696970                  242.116162  \n",
       "std                      5.206311                  221.546621  \n",
       "min                      7.000000                   34.000000  \n",
       "25%                     12.250000                  100.000000  \n",
       "50%                     16.000000                  169.000000  \n",
       "75%                     20.000000                  252.250000  \n",
       "max                     32.000000                 1082.000000  "
      ]
     },
     "execution_count": 10,
     "metadata": {},
     "output_type": "execute_result"
    }
   ],
   "source": [
    "data.describe() #despliega descripción solo para variables cuantitativas de la tabla"
   ]
  },
  {
   "cell_type": "code",
   "execution_count": 11,
   "id": "219c0ab3",
   "metadata": {},
   "outputs": [
    {
     "data": {
      "text/plain": [
       "count           198\n",
       "unique           33\n",
       "top       Zacatecas\n",
       "freq              6\n",
       "Name: Entidad Federativa, dtype: object"
      ]
     },
     "execution_count": 11,
     "metadata": {},
     "output_type": "execute_result"
    }
   ],
   "source": [
    "data['Entidad Federativa'].describe()"
   ]
  },
  {
   "cell_type": "code",
   "execution_count": 12,
   "id": "613d8ec2",
   "metadata": {},
   "outputs": [
    {
     "data": {
      "text/plain": [
       "Zacatecas                          6\n",
       "Puebla                             6\n",
       "México                             6\n",
       "Querétaro                          6\n",
       "Nayarit                            6\n",
       "Nuevo León                         6\n",
       "Baja California Sur                6\n",
       "Aguascalientes                     6\n",
       "Morelos                            6\n",
       "Tabasco                            6\n",
       "Chiapas                            6\n",
       "Guerrero                           6\n",
       "Estados Unidos Mexicanos           6\n",
       "Veracruz de Ignacio de la Llave    6\n",
       "Michoacán de Ocampo                6\n",
       "Sinaloa                            6\n",
       "Guanajuato                         6\n",
       "Durango                            6\n",
       "Ciudad de México                   6\n",
       "Quintana Roo                       6\n",
       "Baja California                    6\n",
       "Hidalgo                            6\n",
       "Jalisco                            6\n",
       "Colima                             6\n",
       "Oaxaca                             6\n",
       "Tlaxcala                           6\n",
       "Sonora                             6\n",
       "Coahuila de Zaragoza               6\n",
       "Chihuahua                          6\n",
       "San Luis Potosí                    6\n",
       "Campeche                           6\n",
       "Tamaulipas                         6\n",
       "Yucatán                            6\n",
       "Name: Entidad Federativa, dtype: int64"
      ]
     },
     "execution_count": 12,
     "metadata": {},
     "output_type": "execute_result"
    }
   ],
   "source": [
    "data['Entidad Federativa'].value_counts()"
   ]
  },
  {
   "cell_type": "code",
   "execution_count": 13,
   "id": "60cdb68f",
   "metadata": {},
   "outputs": [
    {
     "data": {
      "text/html": [
       "<div>\n",
       "<style scoped>\n",
       "    .dataframe tbody tr th:only-of-type {\n",
       "        vertical-align: middle;\n",
       "    }\n",
       "\n",
       "    .dataframe tbody tr th {\n",
       "        vertical-align: top;\n",
       "    }\n",
       "\n",
       "    .dataframe thead th {\n",
       "        text-align: right;\n",
       "    }\n",
       "</style>\n",
       "<table border=\"1\" class=\"dataframe\">\n",
       "  <thead>\n",
       "    <tr style=\"text-align: right;\">\n",
       "      <th></th>\n",
       "      <th>Entidad Federativa</th>\n",
       "      <th>Nivel educativo</th>\n",
       "      <th>Alumnos/Maestros_2010/2011</th>\n",
       "      <th>Alumnos/Escuelas_2010/2011</th>\n",
       "      <th>Alumnos/Maestros_2015/2016</th>\n",
       "      <th>Alumnos/Escuelas_2015/2016</th>\n",
       "      <th>Alumnos/Maestros_2019/2020</th>\n",
       "      <th>Alumnos/Escuelas_2019/2020</th>\n",
       "    </tr>\n",
       "  </thead>\n",
       "  <tbody>\n",
       "    <tr>\n",
       "      <th>178</th>\n",
       "      <td>Tlaxcala</td>\n",
       "      <td>Media superior</td>\n",
       "      <td>15</td>\n",
       "      <td>253</td>\n",
       "      <td>11</td>\n",
       "      <td>257</td>\n",
       "      <td>11</td>\n",
       "      <td>276</td>\n",
       "    </tr>\n",
       "    <tr>\n",
       "      <th>179</th>\n",
       "      <td>Tlaxcala</td>\n",
       "      <td>Superior</td>\n",
       "      <td>10</td>\n",
       "      <td>375</td>\n",
       "      <td>10</td>\n",
       "      <td>536</td>\n",
       "      <td>10</td>\n",
       "      <td>615</td>\n",
       "    </tr>\n",
       "    <tr>\n",
       "      <th>180</th>\n",
       "      <td>Veracruz de Ignacio de la Llave</td>\n",
       "      <td>Total</td>\n",
       "      <td>18</td>\n",
       "      <td>91</td>\n",
       "      <td>16</td>\n",
       "      <td>94</td>\n",
       "      <td>15</td>\n",
       "      <td>87</td>\n",
       "    </tr>\n",
       "    <tr>\n",
       "      <th>181</th>\n",
       "      <td>Veracruz de Ignacio de la Llave</td>\n",
       "      <td>Preescolar</td>\n",
       "      <td>16</td>\n",
       "      <td>32</td>\n",
       "      <td>16</td>\n",
       "      <td>36</td>\n",
       "      <td>15</td>\n",
       "      <td>34</td>\n",
       "    </tr>\n",
       "    <tr>\n",
       "      <th>182</th>\n",
       "      <td>Veracruz de Ignacio de la Llave</td>\n",
       "      <td>Primaria</td>\n",
       "      <td>22</td>\n",
       "      <td>103</td>\n",
       "      <td>19</td>\n",
       "      <td>94</td>\n",
       "      <td>18</td>\n",
       "      <td>89</td>\n",
       "    </tr>\n",
       "    <tr>\n",
       "      <th>183</th>\n",
       "      <td>Veracruz de Ignacio de la Llave</td>\n",
       "      <td>Secundaria</td>\n",
       "      <td>17</td>\n",
       "      <td>132</td>\n",
       "      <td>17</td>\n",
       "      <td>130</td>\n",
       "      <td>15</td>\n",
       "      <td>110</td>\n",
       "    </tr>\n",
       "    <tr>\n",
       "      <th>184</th>\n",
       "      <td>Veracruz de Ignacio de la Llave</td>\n",
       "      <td>Media superior</td>\n",
       "      <td>15</td>\n",
       "      <td>165</td>\n",
       "      <td>10</td>\n",
       "      <td>183</td>\n",
       "      <td>12</td>\n",
       "      <td>171</td>\n",
       "    </tr>\n",
       "    <tr>\n",
       "      <th>185</th>\n",
       "      <td>Veracruz de Ignacio de la Llave</td>\n",
       "      <td>Superior</td>\n",
       "      <td>12</td>\n",
       "      <td>350</td>\n",
       "      <td>11</td>\n",
       "      <td>492</td>\n",
       "      <td>12</td>\n",
       "      <td>500</td>\n",
       "    </tr>\n",
       "    <tr>\n",
       "      <th>186</th>\n",
       "      <td>Yucatán</td>\n",
       "      <td>Total</td>\n",
       "      <td>17</td>\n",
       "      <td>153</td>\n",
       "      <td>16</td>\n",
       "      <td>153</td>\n",
       "      <td>16</td>\n",
       "      <td>155</td>\n",
       "    </tr>\n",
       "    <tr>\n",
       "      <th>187</th>\n",
       "      <td>Yucatán</td>\n",
       "      <td>Preescolar</td>\n",
       "      <td>22</td>\n",
       "      <td>65</td>\n",
       "      <td>21</td>\n",
       "      <td>68</td>\n",
       "      <td>21</td>\n",
       "      <td>71</td>\n",
       "    </tr>\n",
       "    <tr>\n",
       "      <th>188</th>\n",
       "      <td>Yucatán</td>\n",
       "      <td>Primaria</td>\n",
       "      <td>27</td>\n",
       "      <td>179</td>\n",
       "      <td>25</td>\n",
       "      <td>165</td>\n",
       "      <td>24</td>\n",
       "      <td>165</td>\n",
       "    </tr>\n",
       "    <tr>\n",
       "      <th>189</th>\n",
       "      <td>Yucatán</td>\n",
       "      <td>Secundaria</td>\n",
       "      <td>11</td>\n",
       "      <td>165</td>\n",
       "      <td>13</td>\n",
       "      <td>181</td>\n",
       "      <td>12</td>\n",
       "      <td>163</td>\n",
       "    </tr>\n",
       "    <tr>\n",
       "      <th>190</th>\n",
       "      <td>Yucatán</td>\n",
       "      <td>Media superior</td>\n",
       "      <td>15</td>\n",
       "      <td>298</td>\n",
       "      <td>13</td>\n",
       "      <td>195</td>\n",
       "      <td>14</td>\n",
       "      <td>210</td>\n",
       "    </tr>\n",
       "    <tr>\n",
       "      <th>191</th>\n",
       "      <td>Yucatán</td>\n",
       "      <td>Superior</td>\n",
       "      <td>9</td>\n",
       "      <td>357</td>\n",
       "      <td>10</td>\n",
       "      <td>528</td>\n",
       "      <td>10</td>\n",
       "      <td>583</td>\n",
       "    </tr>\n",
       "    <tr>\n",
       "      <th>192</th>\n",
       "      <td>Zacatecas</td>\n",
       "      <td>Total</td>\n",
       "      <td>18</td>\n",
       "      <td>86</td>\n",
       "      <td>18</td>\n",
       "      <td>94</td>\n",
       "      <td>18</td>\n",
       "      <td>94</td>\n",
       "    </tr>\n",
       "    <tr>\n",
       "      <th>193</th>\n",
       "      <td>Zacatecas</td>\n",
       "      <td>Preescolar</td>\n",
       "      <td>20</td>\n",
       "      <td>40</td>\n",
       "      <td>20</td>\n",
       "      <td>44</td>\n",
       "      <td>20</td>\n",
       "      <td>43</td>\n",
       "    </tr>\n",
       "    <tr>\n",
       "      <th>194</th>\n",
       "      <td>Zacatecas</td>\n",
       "      <td>Primaria</td>\n",
       "      <td>23</td>\n",
       "      <td>101</td>\n",
       "      <td>24</td>\n",
       "      <td>105</td>\n",
       "      <td>23</td>\n",
       "      <td>111</td>\n",
       "    </tr>\n",
       "    <tr>\n",
       "      <th>195</th>\n",
       "      <td>Zacatecas</td>\n",
       "      <td>Secundaria</td>\n",
       "      <td>14</td>\n",
       "      <td>72</td>\n",
       "      <td>16</td>\n",
       "      <td>83</td>\n",
       "      <td>15</td>\n",
       "      <td>76</td>\n",
       "    </tr>\n",
       "    <tr>\n",
       "      <th>196</th>\n",
       "      <td>Zacatecas</td>\n",
       "      <td>Media superior</td>\n",
       "      <td>17</td>\n",
       "      <td>286</td>\n",
       "      <td>14</td>\n",
       "      <td>223</td>\n",
       "      <td>13</td>\n",
       "      <td>215</td>\n",
       "    </tr>\n",
       "    <tr>\n",
       "      <th>197</th>\n",
       "      <td>Zacatecas</td>\n",
       "      <td>Superior</td>\n",
       "      <td>8</td>\n",
       "      <td>342</td>\n",
       "      <td>10</td>\n",
       "      <td>650</td>\n",
       "      <td>13</td>\n",
       "      <td>651</td>\n",
       "    </tr>\n",
       "  </tbody>\n",
       "</table>\n",
       "</div>"
      ],
      "text/plain": [
       "                  Entidad Federativa Nivel educativo  \\\n",
       "178                         Tlaxcala  Media superior   \n",
       "179                         Tlaxcala        Superior   \n",
       "180  Veracruz de Ignacio de la Llave           Total   \n",
       "181  Veracruz de Ignacio de la Llave      Preescolar   \n",
       "182  Veracruz de Ignacio de la Llave        Primaria   \n",
       "183  Veracruz de Ignacio de la Llave      Secundaria   \n",
       "184  Veracruz de Ignacio de la Llave  Media superior   \n",
       "185  Veracruz de Ignacio de la Llave        Superior   \n",
       "186                          Yucatán           Total   \n",
       "187                          Yucatán      Preescolar   \n",
       "188                          Yucatán        Primaria   \n",
       "189                          Yucatán      Secundaria   \n",
       "190                          Yucatán  Media superior   \n",
       "191                          Yucatán        Superior   \n",
       "192                        Zacatecas           Total   \n",
       "193                        Zacatecas      Preescolar   \n",
       "194                        Zacatecas        Primaria   \n",
       "195                        Zacatecas      Secundaria   \n",
       "196                        Zacatecas  Media superior   \n",
       "197                        Zacatecas        Superior   \n",
       "\n",
       "     Alumnos/Maestros_2010/2011  Alumnos/Escuelas_2010/2011  \\\n",
       "178                          15                         253   \n",
       "179                          10                         375   \n",
       "180                          18                          91   \n",
       "181                          16                          32   \n",
       "182                          22                         103   \n",
       "183                          17                         132   \n",
       "184                          15                         165   \n",
       "185                          12                         350   \n",
       "186                          17                         153   \n",
       "187                          22                          65   \n",
       "188                          27                         179   \n",
       "189                          11                         165   \n",
       "190                          15                         298   \n",
       "191                           9                         357   \n",
       "192                          18                          86   \n",
       "193                          20                          40   \n",
       "194                          23                         101   \n",
       "195                          14                          72   \n",
       "196                          17                         286   \n",
       "197                           8                         342   \n",
       "\n",
       "     Alumnos/Maestros_2015/2016  Alumnos/Escuelas_2015/2016  \\\n",
       "178                          11                         257   \n",
       "179                          10                         536   \n",
       "180                          16                          94   \n",
       "181                          16                          36   \n",
       "182                          19                          94   \n",
       "183                          17                         130   \n",
       "184                          10                         183   \n",
       "185                          11                         492   \n",
       "186                          16                         153   \n",
       "187                          21                          68   \n",
       "188                          25                         165   \n",
       "189                          13                         181   \n",
       "190                          13                         195   \n",
       "191                          10                         528   \n",
       "192                          18                          94   \n",
       "193                          20                          44   \n",
       "194                          24                         105   \n",
       "195                          16                          83   \n",
       "196                          14                         223   \n",
       "197                          10                         650   \n",
       "\n",
       "     Alumnos/Maestros_2019/2020  Alumnos/Escuelas_2019/2020  \n",
       "178                          11                         276  \n",
       "179                          10                         615  \n",
       "180                          15                          87  \n",
       "181                          15                          34  \n",
       "182                          18                          89  \n",
       "183                          15                         110  \n",
       "184                          12                         171  \n",
       "185                          12                         500  \n",
       "186                          16                         155  \n",
       "187                          21                          71  \n",
       "188                          24                         165  \n",
       "189                          12                         163  \n",
       "190                          14                         210  \n",
       "191                          10                         583  \n",
       "192                          18                          94  \n",
       "193                          20                          43  \n",
       "194                          23                         111  \n",
       "195                          15                          76  \n",
       "196                          13                         215  \n",
       "197                          13                         651  "
      ]
     },
     "execution_count": 13,
     "metadata": {},
     "output_type": "execute_result"
    }
   ],
   "source": [
    "data.tail(20)"
   ]
  },
  {
   "cell_type": "code",
   "execution_count": 14,
   "id": "0d33429d",
   "metadata": {},
   "outputs": [
    {
     "name": "stdout",
     "output_type": "stream",
     "text": [
      "Help on function read_excel in module pandas.io.excel._base:\n",
      "\n",
      "read_excel(io, sheet_name=0, header=0, names=None, index_col=None, usecols=None, squeeze=False, dtype=None, engine=None, converters=None, true_values=None, false_values=None, skiprows=None, nrows=None, na_values=None, keep_default_na=True, na_filter=True, verbose=False, parse_dates=False, date_parser=None, thousands=None, comment=None, skipfooter=0, convert_float=True, mangle_dupe_cols=True, storage_options: Union[Dict[str, Any], NoneType] = None)\n",
      "    Read an Excel file into a pandas DataFrame.\n",
      "    \n",
      "    Supports `xls`, `xlsx`, `xlsm`, `xlsb`, `odf`, `ods` and `odt` file extensions\n",
      "    read from a local filesystem or URL. Supports an option to read\n",
      "    a single sheet or a list of sheets.\n",
      "    \n",
      "    Parameters\n",
      "    ----------\n",
      "    io : str, bytes, ExcelFile, xlrd.Book, path object, or file-like object\n",
      "        Any valid string path is acceptable. The string could be a URL. Valid\n",
      "        URL schemes include http, ftp, s3, and file. For file URLs, a host is\n",
      "        expected. A local file could be: ``file://localhost/path/to/table.xlsx``.\n",
      "    \n",
      "        If you want to pass in a path object, pandas accepts any ``os.PathLike``.\n",
      "    \n",
      "        By file-like object, we refer to objects with a ``read()`` method,\n",
      "        such as a file handle (e.g. via builtin ``open`` function)\n",
      "        or ``StringIO``.\n",
      "    sheet_name : str, int, list, or None, default 0\n",
      "        Strings are used for sheet names. Integers are used in zero-indexed\n",
      "        sheet positions. Lists of strings/integers are used to request\n",
      "        multiple sheets. Specify None to get all sheets.\n",
      "    \n",
      "        Available cases:\n",
      "    \n",
      "        * Defaults to ``0``: 1st sheet as a `DataFrame`\n",
      "        * ``1``: 2nd sheet as a `DataFrame`\n",
      "        * ``\"Sheet1\"``: Load sheet with name \"Sheet1\"\n",
      "        * ``[0, 1, \"Sheet5\"]``: Load first, second and sheet named \"Sheet5\"\n",
      "          as a dict of `DataFrame`\n",
      "        * None: All sheets.\n",
      "    \n",
      "    header : int, list of int, default 0\n",
      "        Row (0-indexed) to use for the column labels of the parsed\n",
      "        DataFrame. If a list of integers is passed those row positions will\n",
      "        be combined into a ``MultiIndex``. Use None if there is no header.\n",
      "    names : array-like, default None\n",
      "        List of column names to use. If file contains no header row,\n",
      "        then you should explicitly pass header=None.\n",
      "    index_col : int, list of int, default None\n",
      "        Column (0-indexed) to use as the row labels of the DataFrame.\n",
      "        Pass None if there is no such column.  If a list is passed,\n",
      "        those columns will be combined into a ``MultiIndex``.  If a\n",
      "        subset of data is selected with ``usecols``, index_col\n",
      "        is based on the subset.\n",
      "    usecols : int, str, list-like, or callable default None\n",
      "        * If None, then parse all columns.\n",
      "        * If str, then indicates comma separated list of Excel column letters\n",
      "          and column ranges (e.g. \"A:E\" or \"A,C,E:F\"). Ranges are inclusive of\n",
      "          both sides.\n",
      "        * If list of int, then indicates list of column numbers to be parsed.\n",
      "        * If list of string, then indicates list of column names to be parsed.\n",
      "    \n",
      "          .. versionadded:: 0.24.0\n",
      "    \n",
      "        * If callable, then evaluate each column name against it and parse the\n",
      "          column if the callable returns ``True``.\n",
      "    \n",
      "        Returns a subset of the columns according to behavior above.\n",
      "    \n",
      "          .. versionadded:: 0.24.0\n",
      "    \n",
      "    squeeze : bool, default False\n",
      "        If the parsed data only contains one column then return a Series.\n",
      "    dtype : Type name or dict of column -> type, default None\n",
      "        Data type for data or columns. E.g. {'a': np.float64, 'b': np.int32}\n",
      "        Use `object` to preserve data as stored in Excel and not interpret dtype.\n",
      "        If converters are specified, they will be applied INSTEAD\n",
      "        of dtype conversion.\n",
      "    engine : str, default None\n",
      "        If io is not a buffer or path, this must be set to identify io.\n",
      "        Supported engines: \"xlrd\", \"openpyxl\", \"odf\", \"pyxlsb\".\n",
      "        Engine compatibility :\n",
      "    \n",
      "        - \"xlrd\" supports old-style Excel files (.xls).\n",
      "        - \"openpyxl\" supports newer Excel file formats.\n",
      "        - \"odf\" supports OpenDocument file formats (.odf, .ods, .odt).\n",
      "        - \"pyxlsb\" supports Binary Excel files.\n",
      "    \n",
      "        .. versionchanged:: 1.2.0\n",
      "            The engine `xlrd <https://xlrd.readthedocs.io/en/latest/>`_\n",
      "            now only supports old-style ``.xls`` files.\n",
      "            When ``engine=None``, the following logic will be\n",
      "            used to determine the engine:\n",
      "    \n",
      "           - If ``path_or_buffer`` is an OpenDocument format (.odf, .ods, .odt),\n",
      "             then `odf <https://pypi.org/project/odfpy/>`_ will be used.\n",
      "           - Otherwise if ``path_or_buffer`` is an xls format,\n",
      "             ``xlrd`` will be used.\n",
      "           - Otherwise if `openpyxl <https://pypi.org/project/openpyxl/>`_ is installed,\n",
      "             then ``openpyxl`` will be used.\n",
      "           - Otherwise if ``xlrd >= 2.0`` is installed, a ``ValueError`` will be raised.\n",
      "           - Otherwise ``xlrd`` will be used and a ``FutureWarning`` will be raised. This\n",
      "             case will raise a ``ValueError`` in a future version of pandas.\n",
      "    \n",
      "    converters : dict, default None\n",
      "        Dict of functions for converting values in certain columns. Keys can\n",
      "        either be integers or column labels, values are functions that take one\n",
      "        input argument, the Excel cell content, and return the transformed\n",
      "        content.\n",
      "    true_values : list, default None\n",
      "        Values to consider as True.\n",
      "    false_values : list, default None\n",
      "        Values to consider as False.\n",
      "    skiprows : list-like, int, or callable, optional\n",
      "        Line numbers to skip (0-indexed) or number of lines to skip (int) at the\n",
      "        start of the file. If callable, the callable function will be evaluated\n",
      "        against the row indices, returning True if the row should be skipped and\n",
      "        False otherwise. An example of a valid callable argument would be ``lambda\n",
      "        x: x in [0, 2]``.\n",
      "    nrows : int, default None\n",
      "        Number of rows to parse.\n",
      "    na_values : scalar, str, list-like, or dict, default None\n",
      "        Additional strings to recognize as NA/NaN. If dict passed, specific\n",
      "        per-column NA values. By default the following values are interpreted\n",
      "        as NaN: '', '#N/A', '#N/A N/A', '#NA', '-1.#IND', '-1.#QNAN', '-NaN', '-nan',\n",
      "        '1.#IND', '1.#QNAN', '<NA>', 'N/A', 'NA', 'NULL', 'NaN', 'n/a',\n",
      "        'nan', 'null'.\n",
      "    keep_default_na : bool, default True\n",
      "        Whether or not to include the default NaN values when parsing the data.\n",
      "        Depending on whether `na_values` is passed in, the behavior is as follows:\n",
      "    \n",
      "        * If `keep_default_na` is True, and `na_values` are specified, `na_values`\n",
      "          is appended to the default NaN values used for parsing.\n",
      "        * If `keep_default_na` is True, and `na_values` are not specified, only\n",
      "          the default NaN values are used for parsing.\n",
      "        * If `keep_default_na` is False, and `na_values` are specified, only\n",
      "          the NaN values specified `na_values` are used for parsing.\n",
      "        * If `keep_default_na` is False, and `na_values` are not specified, no\n",
      "          strings will be parsed as NaN.\n",
      "    \n",
      "        Note that if `na_filter` is passed in as False, the `keep_default_na` and\n",
      "        `na_values` parameters will be ignored.\n",
      "    na_filter : bool, default True\n",
      "        Detect missing value markers (empty strings and the value of na_values). In\n",
      "        data without any NAs, passing na_filter=False can improve the performance\n",
      "        of reading a large file.\n",
      "    verbose : bool, default False\n",
      "        Indicate number of NA values placed in non-numeric columns.\n",
      "    parse_dates : bool, list-like, or dict, default False\n",
      "        The behavior is as follows:\n",
      "    \n",
      "        * bool. If True -> try parsing the index.\n",
      "        * list of int or names. e.g. If [1, 2, 3] -> try parsing columns 1, 2, 3\n",
      "          each as a separate date column.\n",
      "        * list of lists. e.g.  If [[1, 3]] -> combine columns 1 and 3 and parse as\n",
      "          a single date column.\n",
      "        * dict, e.g. {'foo' : [1, 3]} -> parse columns 1, 3 as date and call\n",
      "          result 'foo'\n",
      "    \n",
      "        If a column or index contains an unparseable date, the entire column or\n",
      "        index will be returned unaltered as an object data type. If you don`t want to\n",
      "        parse some cells as date just change their type in Excel to \"Text\".\n",
      "        For non-standard datetime parsing, use ``pd.to_datetime`` after ``pd.read_excel``.\n",
      "    \n",
      "        Note: A fast-path exists for iso8601-formatted dates.\n",
      "    date_parser : function, optional\n",
      "        Function to use for converting a sequence of string columns to an array of\n",
      "        datetime instances. The default uses ``dateutil.parser.parser`` to do the\n",
      "        conversion. Pandas will try to call `date_parser` in three different ways,\n",
      "        advancing to the next if an exception occurs: 1) Pass one or more arrays\n",
      "        (as defined by `parse_dates`) as arguments; 2) concatenate (row-wise) the\n",
      "        string values from the columns defined by `parse_dates` into a single array\n",
      "        and pass that; and 3) call `date_parser` once for each row using one or\n",
      "        more strings (corresponding to the columns defined by `parse_dates`) as\n",
      "        arguments.\n",
      "    thousands : str, default None\n",
      "        Thousands separator for parsing string columns to numeric.  Note that\n",
      "        this parameter is only necessary for columns stored as TEXT in Excel,\n",
      "        any numeric columns will automatically be parsed, regardless of display\n",
      "        format.\n",
      "    comment : str, default None\n",
      "        Comments out remainder of line. Pass a character or characters to this\n",
      "        argument to indicate comments in the input file. Any data between the\n",
      "        comment string and the end of the current line is ignored.\n",
      "    skipfooter : int, default 0\n",
      "        Rows at the end to skip (0-indexed).\n",
      "    convert_float : bool, default True\n",
      "        Convert integral floats to int (i.e., 1.0 --> 1). If False, all numeric\n",
      "        data will be read in as floats: Excel stores all numbers as floats\n",
      "        internally.\n",
      "    mangle_dupe_cols : bool, default True\n",
      "        Duplicate columns will be specified as 'X', 'X.1', ...'X.N', rather than\n",
      "        'X'...'X'. Passing in False will cause data to be overwritten if there\n",
      "        are duplicate names in the columns.\n",
      "    storage_options : dict, optional\n",
      "        Extra options that make sense for a particular storage connection, e.g.\n",
      "        host, port, username, password, etc., if using a URL that will\n",
      "        be parsed by ``fsspec``, e.g., starting \"s3://\", \"gcs://\". An error\n",
      "        will be raised if providing this argument with a local path or\n",
      "        a file-like buffer. See the fsspec and backend storage implementation\n",
      "        docs for the set of allowed keys and values.\n",
      "    \n",
      "        .. versionadded:: 1.2.0\n",
      "    \n",
      "    Returns\n",
      "    -------\n",
      "    DataFrame or dict of DataFrames\n",
      "        DataFrame from the passed in Excel file. See notes in sheet_name\n",
      "        argument for more information on when a dict of DataFrames is returned.\n",
      "    \n",
      "    See Also\n",
      "    --------\n",
      "    DataFrame.to_excel : Write DataFrame to an Excel file.\n",
      "    DataFrame.to_csv : Write DataFrame to a comma-separated values (csv) file.\n",
      "    read_csv : Read a comma-separated values (csv) file into DataFrame.\n",
      "    read_fwf : Read a table of fixed-width formatted lines into DataFrame.\n",
      "    \n",
      "    Examples\n",
      "    --------\n",
      "    The file can be read using the file name as string or an open file object:\n",
      "    \n",
      "    >>> pd.read_excel('tmp.xlsx', index_col=0)  # doctest: +SKIP\n",
      "           Name  Value\n",
      "    0   string1      1\n",
      "    1   string2      2\n",
      "    2  #Comment      3\n",
      "    \n",
      "    >>> pd.read_excel(open('tmp.xlsx', 'rb'),\n",
      "    ...               sheet_name='Sheet3')  # doctest: +SKIP\n",
      "       Unnamed: 0      Name  Value\n",
      "    0           0   string1      1\n",
      "    1           1   string2      2\n",
      "    2           2  #Comment      3\n",
      "    \n",
      "    Index and header can be specified via the `index_col` and `header` arguments\n",
      "    \n",
      "    >>> pd.read_excel('tmp.xlsx', index_col=None, header=None)  # doctest: +SKIP\n",
      "         0         1      2\n",
      "    0  NaN      Name  Value\n",
      "    1  0.0   string1      1\n",
      "    2  1.0   string2      2\n",
      "    3  2.0  #Comment      3\n",
      "    \n",
      "    Column types are inferred but can be explicitly specified\n",
      "    \n",
      "    >>> pd.read_excel('tmp.xlsx', index_col=0,\n",
      "    ...               dtype={'Name': str, 'Value': float})  # doctest: +SKIP\n",
      "           Name  Value\n",
      "    0   string1    1.0\n",
      "    1   string2    2.0\n",
      "    2  #Comment    3.0\n",
      "    \n",
      "    True, False, and NA values, and thousands separators have defaults,\n",
      "    but can be explicitly specified, too. Supply the values you would like\n",
      "    as strings or lists of strings!\n",
      "    \n",
      "    >>> pd.read_excel('tmp.xlsx', index_col=0,\n",
      "    ...               na_values=['string1', 'string2'])  # doctest: +SKIP\n",
      "           Name  Value\n",
      "    0       NaN      1\n",
      "    1       NaN      2\n",
      "    2  #Comment      3\n",
      "    \n",
      "    Comment lines in the excel input file can be skipped using the `comment` kwarg\n",
      "    \n",
      "    >>> pd.read_excel('tmp.xlsx', index_col=0, comment='#')  # doctest: +SKIP\n",
      "          Name  Value\n",
      "    0  string1    1.0\n",
      "    1  string2    2.0\n",
      "    2     None    NaN\n",
      "\n"
     ]
    }
   ],
   "source": [
    "#note que la tabla contiene información que no necesitamos, con la ayduda, buscamos la opción que nos permita\n",
    "#solo cargar la información útil\n",
    "help(pd.read_excel)"
   ]
  },
  {
   "cell_type": "code",
   "execution_count": 15,
   "id": "8b7957e2",
   "metadata": {},
   "outputs": [
    {
     "data": {
      "text/plain": [
       "Media superior    33\n",
       "Preescolar        33\n",
       "Primaria          33\n",
       "Secundaria        33\n",
       "Total             33\n",
       "Superior          33\n",
       "Name: Nivel educativo, dtype: int64"
      ]
     },
     "execution_count": 15,
     "metadata": {},
     "output_type": "execute_result"
    }
   ],
   "source": [
    "data['Nivel educativo'].value_counts()"
   ]
  },
  {
   "cell_type": "markdown",
   "id": "7b46e0f6",
   "metadata": {},
   "source": [
    "# Gráficos\n",
    "Al igual que los métodos, las gráficas dependen del tipo de variable que tengamos\n"
   ]
  },
  {
   "cell_type": "code",
   "execution_count": 16,
   "id": "4bf14544",
   "metadata": {},
   "outputs": [],
   "source": [
    "#Boxplot\n",
    "import seaborn as sns"
   ]
  },
  {
   "cell_type": "code",
   "execution_count": 17,
   "id": "52269d73",
   "metadata": {},
   "outputs": [
    {
     "data": {
      "text/plain": [
       "<AxesSubplot:ylabel='Alumnos/Maestros_2010/2011'>"
      ]
     },
     "execution_count": 17,
     "metadata": {},
     "output_type": "execute_result"
    },
    {
     "data": {
      "image/png": "[encoded data removed]",
      "text/plain": [
       "<Figure size 432x288 with 1 Axes>"
      ]
     },
     "metadata": {
      "needs_background": "light"
     },
     "output_type": "display_data"
    }
   ],
   "source": [
    "sns.boxplot(y='Alumnos/Maestros_2010/2011',data=data) #Ojo, podemos usar x o y como argumento según si queremos que \n",
    "#la caja sea horizontal o vertical respectivamente"
   ]
  },
  {
   "cell_type": "code",
   "execution_count": 18,
   "id": "8edd39c1",
   "metadata": {},
   "outputs": [
    {
     "data": {
      "text/plain": [
       "<AxesSubplot:ylabel='Alumnos/Maestros_2015/2016'>"
      ]
     },
     "execution_count": 18,
     "metadata": {},
     "output_type": "execute_result"
    },
    {
     "data": {
      "image/png": "[encoded data removed]",
      "text/plain": [
       "<Figure size 432x288 with 1 Axes>"
      ]
     },
     "metadata": {
      "needs_background": "light"
     },
     "output_type": "display_data"
    }
   ],
   "source": [
    "sns.boxplot(y='Alumnos/Maestros_2015/2016',data=data) #Ojo, podemos usar x o y como argumento según si queremos que \n",
    "#la caja sea horizontal o vertical respectivamente"
   ]
  },
  {
   "cell_type": "code",
   "execution_count": 19,
   "id": "ecc2307f",
   "metadata": {},
   "outputs": [
    {
     "data": {
      "text/plain": [
       "<AxesSubplot:ylabel='Alumnos/Maestros_2019/2020'>"
      ]
     },
     "execution_count": 19,
     "metadata": {},
     "output_type": "execute_result"
    },
    {
     "data": {
      "image/png": "[encoded data removed]",
      "text/plain": [
       "<Figure size 432x288 with 1 Axes>"
      ]
     },
     "metadata": {
      "needs_background": "light"
     },
     "output_type": "display_data"
    }
   ],
   "source": [
    "sns.boxplot(y='Alumnos/Maestros_2019/2020',data=data) #Ojo, podemos usar x o y como argumento según si queremos que \n",
    "#la caja sea horizontal o vertical respectivamente"
   ]
  },
  {
   "cell_type": "code",
   "execution_count": 20,
   "id": "77b70cf3",
   "metadata": {
    "scrolled": false
   },
   "outputs": [
    {
     "data": {
      "text/plain": [
       "<AxesSubplot:xlabel='Alumnos/Maestros_2010/2011', ylabel='Count'>"
      ]
     },
     "execution_count": 20,
     "metadata": {},
     "output_type": "execute_result"
    },
    {
     "data": {
      "image/png": "[encoded data removed]",
      "text/plain": [
       "<Figure size 432x288 with 1 Axes>"
      ]
     },
     "metadata": {
      "needs_background": "light"
     },
     "output_type": "display_data"
    }
   ],
   "source": [
    "sns.histplot(x='Alumnos/Maestros_2010/2011',data=data)"
   ]
  },
  {
   "cell_type": "code",
   "execution_count": 37,
   "id": "0053a429",
   "metadata": {},
   "outputs": [
    {
     "data": {
      "text/plain": [
       "<AxesSubplot:xlabel='Alumnos/Maestros_2019/2020', ylabel='Count'>"
      ]
     },
     "execution_count": 37,
     "metadata": {},
     "output_type": "execute_result"
    },
    {
     "data": {
      "image/png": "[encoded data removed]",
      "text/plain": [
       "<Figure size 432x288 with 1 Axes>"
      ]
     },
     "metadata": {
      "needs_background": "light"
     },
     "output_type": "display_data"
    }
   ],
   "source": [
    "sns.histplot(x='Alumnos/Maestros_2019/2020',data=data)"
   ]
  },
  {
   "cell_type": "code",
   "execution_count": 38,
   "id": "f70a513b",
   "metadata": {},
   "outputs": [
    {
     "data": {
      "text/plain": [
       "<seaborn.axisgrid.FacetGrid at 0x23ac4b35100>"
      ]
     },
     "execution_count": 38,
     "metadata": {},
     "output_type": "execute_result"
    },
    {
     "data": {
      "image/png": "[encoded data removed]",
      "text/plain": [
       "<Figure size 360x360 with 1 Axes>"
      ]
     },
     "metadata": {
      "needs_background": "light"
     },
     "output_type": "display_data"
    }
   ],
   "source": [
    "sns.catplot(x=\"Nivel educativo\", kind=\"count\", palette=\"ch:.25\", data=data)"
   ]
  },
  {
   "cell_type": "code",
   "execution_count": 39,
   "id": "d13dbc2b",
   "metadata": {},
   "outputs": [
    {
     "data": {
      "text/plain": [
       "<seaborn.axisgrid.FacetGrid at 0x23ac4bb59a0>"
      ]
     },
     "execution_count": 39,
     "metadata": {},
     "output_type": "execute_result"
    },
    {
     "data": {
      "image/png": "[encoded data removed]",
      "text/plain": [
       "<Figure size 360x360 with 1 Axes>"
      ]
     },
     "metadata": {
      "needs_background": "light"
     },
     "output_type": "display_data"
    }
   ],
   "source": [
    "sns.catplot(x=\"Entidad Federativa\", kind=\"count\", palette=\"ch:.25\", data=data)"
   ]
  },
  {
   "cell_type": "code",
   "execution_count": null,
   "id": "158001c0",
   "metadata": {},
   "outputs": [],
   "source": []
  }
 ],
 "metadata": {
  "kernelspec": {
   "display_name": "Python 3",
   "language": "python",
   "name": "python3"
  },
  "language_info": {
   "codemirror_mode": {
    "name": "ipython",
    "version": 3
   },
   "file_extension": ".py",
   "mimetype": "text/x-python",
   "name": "python",
   "nbconvert_exporter": "python",
   "pygments_lexer": "ipython3",
   "version": "3.8.8"
  }
 },
 "nbformat": 4,
 "nbformat_minor": 5
}
