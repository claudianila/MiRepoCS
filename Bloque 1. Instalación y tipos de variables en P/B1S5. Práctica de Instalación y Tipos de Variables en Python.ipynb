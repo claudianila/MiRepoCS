{
 "cells": [
  {
   "cell_type": "markdown",
   "id": "13f9370d",
   "metadata": {},
   "source": [
    "# Práctica de Instalación y Tipos de Variables en Python\n",
    "En esta práctica descargarás tu propia base de datos que se trabajará durante todo el curso (de preferencia) o se elegirá una adecuada de la bibliografía\n"
   ]
  },
  {
   "cell_type": "markdown",
   "id": "c60f3fa4",
   "metadata": {},
   "source": [
    "# Tipos de variables\n",
    "1. Crea una cadena, una lista y un diccionario\n",
    "2. Busca métodos posibles para estos datos usando el método dir.\n",
    "3. Aplica alguno de los métodos que hayas obtenido hasta que obtengas un error.\n",
    "4. Busca en la documentación de los métodos usando help para tratar de encontrar qué hace el método y qué deberías hacer diferente para hacerlo funcionar.\n"
   ]
  },
  {
   "cell_type": "markdown",
   "id": "315d9726",
   "metadata": {},
   "source": [
    "# Carga de datos\n",
    "5. Utiliza un archivo propio en una tabla (o dataframe) y cárgala en python notebook, recuerda que debes considerar cuál es su formato (csv, json o xlsx). \n",
    "6. Despliega el inicio de la tabla cargada con el uso de head().\n"
   ]
  },
  {
   "cell_type": "markdown",
   "id": "dd0b9008",
   "metadata": {},
   "source": [
    "Por ejemplo, en: https://abxda.medium.com/integraci%C3%B3n-de-los-datos-del-censo-2020-usando-python-c%C3%B3digo-incluido-880b39296998\n",
    "        se muestran ejemplos de cómo descargar datos de INEGI y analizarlos geográficamente.\n",
    "        Habría que ver su implementación (pendiente)"
   ]
  }
 ],
 "metadata": {
  "kernelspec": {
   "display_name": "Python 3",
   "language": "python",
   "name": "python3"
  },
  "language_info": {
   "codemirror_mode": {
    "name": "ipython",
    "version": 3
   },
   "file_extension": ".py",
   "mimetype": "text/x-python",
   "name": "python",
   "nbconvert_exporter": "python",
   "pygments_lexer": "ipython3",
   "version": "3.8.8"
  }
 },
 "nbformat": 4,
 "nbformat_minor": 5
}
